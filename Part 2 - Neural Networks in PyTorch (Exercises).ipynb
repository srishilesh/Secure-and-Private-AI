{
 "cells": [
  {
   "cell_type": "markdown",
   "metadata": {},
   "source": [
    "# Neural networks with PyTorch\n",
    "\n",
    "Deep learning networks tend to be massive with dozens or hundreds of layers, that's where the term \"deep\" comes from. You can build one of these deep networks using only weight matrices as we did in the previous notebook, but in general it's very cumbersome and difficult to implement. PyTorch has a nice module `nn` that provides a nice way to efficiently build large neural networks."
   ]
  },
  {
   "cell_type": "code",
   "execution_count": 1,
   "metadata": {},
   "outputs": [],
   "source": [
    "# Import necessary packages\n",
    "\n",
    "%matplotlib inline\n",
    "%config InlineBackend.figure_format = 'retina'\n",
    "\n",
    "import numpy as np\n",
    "import torch\n",
    "\n",
    "import helper\n",
    "\n",
    "import matplotlib.pyplot as plt"
   ]
  },
  {
   "cell_type": "markdown",
   "metadata": {},
   "source": [
    "\n",
    "Now we're going to build a larger network that can solve a (formerly) difficult problem, identifying text in an image. Here we'll use the MNIST dataset which consists of greyscale handwritten digits. Each image is 28x28 pixels, you can see a sample below\n",
    "\n",
    "<img src='assets/mnist.png'>\n",
    "\n",
    "Our goal is to build a neural network that can take one of these images and predict the digit in the image.\n",
    "\n",
    "First up, we need to get our dataset. This is provided through the `torchvision` package. The code below will download the MNIST dataset, then create training and test datasets for us. Don't worry too much about the details here, you'll learn more about this later."
   ]
  },
  {
   "cell_type": "code",
   "execution_count": 2,
   "metadata": {},
   "outputs": [
    {
     "name": "stdout",
     "output_type": "stream",
     "text": [
      "Downloading http://yann.lecun.com/exdb/mnist/train-images-idx3-ubyte.gz\n",
      "Downloading http://yann.lecun.com/exdb/mnist/train-labels-idx1-ubyte.gz\n",
      "Downloading http://yann.lecun.com/exdb/mnist/t10k-images-idx3-ubyte.gz\n",
      "Downloading http://yann.lecun.com/exdb/mnist/t10k-labels-idx1-ubyte.gz\n",
      "Processing...\n",
      "Done!\n"
     ]
    }
   ],
   "source": [
    "### Run this cell\n",
    "\n",
    "from torchvision import datasets, transforms  #For downloading the datasets\n",
    "\n",
    "# Define a transform to normalize the data\n",
    "transform = transforms.Compose([transforms.ToTensor(),\n",
    "                              transforms.Normalize((0.5,), (0.5,)),\n",
    "                              ])\n",
    "\n",
    "# Download and load the training data\n",
    "trainset = datasets.MNIST('~/.pytorch/MNIST_data/', download=True, train=True, transform=transform)\n",
    "trainloader = torch.utils.data.DataLoader(trainset, batch_size=64, shuffle=True)"
   ]
  },
  {
   "cell_type": "markdown",
   "metadata": {},
   "source": [
    "We have the training data loaded into `trainloader` and we make that an iterator with `iter(trainloader)`. Later, we'll use this to loop through the dataset for training, like\n",
    "\n",
    "```python\n",
    "for image, label in trainloader:\n",
    "    ## do things with images and labels\n",
    "```\n",
    "\n",
    "You'll notice I created the `trainloader` with a batch size of 64, and `shuffle=True`. The batch size is the number of images we get in one iteration from the data loader and pass through our network, often called a *batch*. And `shuffle=True` tells it to shuffle the dataset every time we start going through the data loader again. But here I'm just grabbing the first batch so we can check out the data. We can see below that `images` is just a tensor with size `(64, 1, 28, 28)`. So, 64 images per batch, 1 color channel, and 28x28 images."
   ]
  },
  {
   "cell_type": "code",
   "execution_count": 3,
   "metadata": {},
   "outputs": [
    {
     "name": "stdout",
     "output_type": "stream",
     "text": [
      "<class 'torch.Tensor'>\n",
      "torch.Size([64, 1, 28, 28])\n",
      "torch.Size([64])\n"
     ]
    }
   ],
   "source": [
    "dataiter = iter(trainloader)\n",
    "images, labels = dataiter.next()\n",
    "print(type(images))\n",
    "print(images.shape)\n",
    "print(labels.shape)"
   ]
  },
  {
   "cell_type": "markdown",
   "metadata": {},
   "source": [
    "This is what one of the images looks like. "
   ]
  },
  {
   "cell_type": "code",
   "execution_count": 4,
   "metadata": {},
   "outputs": [
    {
     "data": {
      "image/png": "[encoded data removed]",
      "text/plain": [
       "<matplotlib.figure.Figure at 0x7fe6472ff048>"
      ]
     },
     "metadata": {
      "image/png": {
       "height": 250,
       "width": 253
      },
      "needs_background": "light"
     },
     "output_type": "display_data"
    }
   ],
   "source": [
    "plt.imshow(images[1].numpy().squeeze(), cmap='Greys_r');"
   ]
  },
  {
   "cell_type": "markdown",
   "metadata": {},
   "source": [
    "First, let's try to build a simple network for this dataset using weight matrices and matrix multiplications. Then, we'll see how to do it using PyTorch's `nn` module which provides a much more convenient and powerful method for defining network architectures.\n",
    "\n",
    "The networks you've seen so far are called *fully-connected* or *dense* networks. Each unit in one layer is connected to each unit in the next layer. In fully-connected networks, the input to each layer must be a one-dimensional vector (which can be stacked into a 2D tensor as a batch of multiple examples). However, our images are 28x28 2D tensors, so we need to convert them into 1D vectors. Thinking about sizes, we need to convert the batch of images with shape `(64, 1, 28, 28)` to a have a shape of `(64, 784)`, 784 is 28 times 28. This is typically called *flattening*, we flattened the 2D images into 1D vectors.\n",
    "\n",
    "Previously you built a network with one output unit. Here we need 10 output units, one for each digit. We want our network to predict the digit shown in an image, so what we'll do is calculate probabilities that the image is of any one digit or class. This ends up being a discrete probability distribution over the classes (digits) that tells us the most likely class for the image. That means we need 10 output units for the 10 classes (digits). We'll see how to convert the network output into a probability distribution next.\n",
    "\n",
    "> **Exercise:** Flatten the batch of images `images`. Then build a multi-layer network with 784 input units, 256 hidden units, and 10 output units using random tensors for the weights and biases. For now, use a sigmoid activation for the hidden layer. Leave the output layer without an activation, we'll add one that gives us a probability distribution next."
   ]
  },
  {
   "cell_type": "code",
   "execution_count": 5,
   "metadata": {},
   "outputs": [
    {
     "data": {
      "text/plain": [
       "tensor([[-10.5056, -11.2171,  -1.9504,  -9.0890, -17.0493,  -6.5728,\n",
       "         -12.7218,  -9.9835,   0.4690, -10.4434],\n",
       "        [-11.0355, -23.0721, -10.4197,  -2.6956,  -3.9441, -10.2036,\n",
       "         -10.8945,   7.8288,  -8.9007, -20.5980],\n",
       "        [ -5.3143, -18.4870, -10.7509, -20.7980, -12.8525,   9.5958,\n",
       "          -9.2376,  -2.2555,   1.8250, -19.8199],\n",
       "        [ -9.8413, -22.3202,  -7.9140,  -9.8663, -18.5628, -11.2075,\n",
       "         -12.3638,   4.3733,   8.3487, -22.7448],\n",
       "        [-11.1717,  -9.6192, -10.3565,  -9.6614, -10.7278,  -3.6226,\n",
       "          -9.7925,   0.8084,   4.6290, -29.4795],\n",
       "        [-18.0660, -22.3280,  -8.9855, -14.5791, -14.9685,  -3.5649,\n",
       "         -10.9344,   2.8594,   1.3235, -23.1386],\n",
       "        [ -7.2697, -12.5793,  -2.8967, -15.0252, -13.0972,  -1.9056,\n",
       "          -8.6767,  -6.5751,  -4.7311,  -5.2103],\n",
       "        [ -8.2877,  -9.6317,  -8.6882, -12.0584, -11.8272,  -4.0973,\n",
       "          -9.5993,  -3.4410,   2.9097,  -8.3739],\n",
       "        [ -8.9194, -15.2330,  -2.8337, -18.9445, -10.5043,   3.1900,\n",
       "         -15.5488,   1.9003,   9.0588, -24.7540],\n",
       "        [ -8.1235, -18.5420, -10.9146, -20.2645, -10.9515,   2.0617,\n",
       "          -7.6798,   1.1382,   5.0483, -24.0142],\n",
       "        [ -2.8976, -13.7494,   0.0211, -11.5944, -13.4895,   1.9889,\n",
       "          -7.6360,  -4.2513,   4.6635, -18.2407],\n",
       "        [ -4.9703, -17.1803,  -5.4628, -13.0978, -15.5375,   1.9688,\n",
       "         -11.1158,   2.4856,   3.7513, -18.4593],\n",
       "        [ -9.2574, -10.2267, -14.6021, -15.6594,  -2.6816,  -6.9412,\n",
       "          -7.1372,  13.5885,   0.9237, -22.1215],\n",
       "        [ -9.4033, -17.8546,  -6.1990, -12.7632, -11.1481,   5.1894,\n",
       "          -9.3135,  -1.6304,  -8.6017, -24.7634],\n",
       "        [ -9.4079,  -9.8474, -14.9666, -19.6213, -13.3334,  -4.2838,\n",
       "         -14.7108,  -3.0195,   5.2343, -31.8921],\n",
       "        [-10.3225,  -7.3454,  -7.0223, -18.8640,  -7.5581, -12.5333,\n",
       "          -9.1474,   1.5095,  -2.6034, -11.5005],\n",
       "        [ -4.8205, -10.8748,  -3.0699, -13.2215, -10.6510,  -0.8131,\n",
       "          -8.2215,  -5.5886,   3.1198, -19.7278],\n",
       "        [ -8.3388, -14.6637,  -8.7415, -25.0841, -12.5042,  -5.9249,\n",
       "         -11.5682,  -5.2890,  -1.6934, -15.1883],\n",
       "        [-10.2674,  -8.3215,  -3.9188, -17.7360, -16.1583,  -8.1222,\n",
       "         -14.5055,   3.3008,   5.8611, -25.9880],\n",
       "        [-11.5425, -15.3286,  -4.3779, -22.1670,  -9.3326, -12.4694,\n",
       "          -6.7180,  -2.5894,   2.2740, -17.7319],\n",
       "        [ -3.1346, -16.0604,   2.5042, -18.6250, -15.7778,  -4.2129,\n",
       "         -16.7576,   3.4176,  -9.3192,  -9.7380],\n",
       "        [ -9.0826, -13.2795,  -3.5912, -22.1605,   0.2126,  -2.1430,\n",
       "         -18.1386,  -1.3594,  -3.6693, -31.8797],\n",
       "        [-13.3167,  -8.2267,  -6.9714, -14.9354,  -2.5835,  -0.5950,\n",
       "         -10.5263, -13.8534,  11.2644, -12.8259],\n",
       "        [ -7.9734, -11.7575,  -0.1899, -14.9354,  -9.7465, -10.5059,\n",
       "         -12.9110,  -2.7510,   9.1075, -30.1715],\n",
       "        [-11.9581, -10.4846, -15.4918, -26.1926, -12.7817,   8.4630,\n",
       "         -12.7494,   4.4127,   7.9908, -20.6679],\n",
       "        [ -5.8544, -14.8937,  -3.6927, -24.8562, -11.9028,   0.5292,\n",
       "         -19.0369,   3.7718,   2.2546, -17.0572],\n",
       "        [ -6.7896, -11.6053, -17.1200, -16.2192,  -6.3977,  -8.4850,\n",
       "         -12.6996,   4.3457,   4.4713, -27.0021],\n",
       "        [  0.4851, -12.6030, -10.8226, -14.0759,  -6.8013,   7.5908,\n",
       "          -5.3520,  -2.3426,   0.6883, -21.6481],\n",
       "        [ -9.2813, -11.1166, -19.2930, -12.0859, -19.8643,  -3.2573,\n",
       "         -12.3254,  -1.1258,   4.5113, -19.5204],\n",
       "        [-13.2517, -18.8353,  -3.0872, -25.0031,  -5.3947, -23.8718,\n",
       "         -16.3217,  -0.4606,  10.6346, -17.7178],\n",
       "        [ -3.7753, -13.2947,  -5.6773, -16.4244, -12.4083,  -5.4000,\n",
       "          -6.8584,  -4.3853,   3.5734, -22.3301],\n",
       "        [ -2.1262, -20.8760,  -6.7772, -22.9672, -12.5135, -10.1673,\n",
       "         -20.7288,  -5.4263,   0.4111, -28.9740],\n",
       "        [-11.3589, -11.3624, -14.5055, -21.4707, -12.2754,   4.1346,\n",
       "          -0.2429,  -4.2496,   1.5483, -18.0656],\n",
       "        [ -9.6849,  -3.2972,  -0.0341, -16.3402, -21.1533,  -4.9656,\n",
       "          -1.5246,  -3.0028,  11.4674,  -6.9794],\n",
       "        [ -8.2949, -13.4270, -12.1450, -13.6718, -12.2565, -11.4838,\n",
       "          -8.8660,   5.3839,   2.4267, -20.1063],\n",
       "        [ -8.2610,  -3.6599,  -8.1379, -20.9232, -12.6791, -10.5164,\n",
       "          -3.5494,   4.1645,  12.2370, -24.2184],\n",
       "        [-11.8371, -19.8942,  -5.9001, -11.9359,  -8.3560,  -8.3557,\n",
       "          -4.7816,   1.9236,   4.6086, -27.6376],\n",
       "        [ -6.9241, -15.1195,  -6.6400, -10.1439, -16.5421,  -2.1385,\n",
       "         -13.0657,   0.8865,  -1.7324, -25.7745],\n",
       "        [ -5.1009, -11.1114, -13.8901, -25.9790, -13.8930,   2.8381,\n",
       "          -8.1833,  -7.5018,  -9.7784, -15.9327],\n",
       "        [ -5.6894,  -8.7839, -10.6756, -21.9350, -13.5781, -10.5254,\n",
       "         -14.8186,   7.9356,   5.5182, -19.2598],\n",
       "        [  4.8033, -15.9955,  -5.7588, -15.9678, -17.0301,  -2.4441,\n",
       "         -11.6694,   9.8520,   3.6928, -18.3320],\n",
       "        [-12.0919, -14.0989,  -6.3424, -11.3086, -13.4074,   2.4102,\n",
       "          -9.3886,  -3.3187,  -5.9664, -16.4685],\n",
       "        [-13.4729, -17.1944, -14.0076, -16.3651,  -8.0848,  -6.0342,\n",
       "         -11.8139,  -2.1168,  -0.3370,  -3.9891],\n",
       "        [-11.2066, -18.6087,  -8.7879, -21.4682, -17.0544,  -9.5752,\n",
       "         -12.4295,  -5.2280,  12.4873, -10.2650],\n",
       "        [ -6.7184, -10.4270, -11.4013, -11.2165, -14.4125,   2.4075,\n",
       "         -10.4495,  -0.1948,   6.3124, -21.1313],\n",
       "        [ -9.0313,  -9.4956,  -2.4941, -16.9203, -21.0081,  10.3969,\n",
       "         -13.3573,   3.3157,  -3.2652, -14.1942],\n",
       "        [-14.8188, -10.1458, -16.2267, -16.7581, -14.3414,   3.9662,\n",
       "          -3.0887,  -9.1969,  -2.2112,  -6.5136],\n",
       "        [ -6.0389, -14.6062, -12.0931, -16.7821, -15.6902, -10.2413,\n",
       "         -16.3665,   4.0156,   8.6721, -19.9172],\n",
       "        [ -9.6882, -11.9665,  -3.8839, -22.3036,  -8.4821,  -8.5919,\n",
       "          -9.4987,   3.0233,  -4.8561, -13.6701],\n",
       "        [ -0.5338, -14.0808,  -6.4789, -14.2373, -19.8175,  -0.6719,\n",
       "         -18.4065,  -6.3832,   0.0158, -22.2542],\n",
       "        [-15.4214, -11.1969,  -6.8116, -22.6187,  -9.6035,  -0.4446,\n",
       "         -11.0765,  -2.7527,   9.8166, -25.4593],\n",
       "        [-18.3390, -14.0187,  -9.3247, -18.3913,  -9.7947,  -7.7895,\n",
       "         -18.8342,  -1.2219,   8.9135, -24.6182],\n",
       "        [ -8.8412, -13.9766,  -3.9860, -14.7074,  -3.6018,  -6.7945,\n",
       "         -13.7971,   9.2141,  -3.2960, -14.5914],\n",
       "        [-10.5244, -18.8669, -15.9253, -25.1111, -14.9661,  -6.1032,\n",
       "          -8.4340,   4.9707,  16.2996, -15.3403],\n",
       "        [-15.5041,  -8.4323, -14.3176, -12.2977, -14.9934,   5.1009,\n",
       "          -6.1409,   3.3538,   8.2577, -16.8247],\n",
       "        [ -9.0549, -20.8878,  -3.9243, -16.0216, -11.2291,  -2.3505,\n",
       "          -4.5536,   3.5417,   4.7667, -20.7600],\n",
       "        [ -9.9298,  -2.2015,  -6.2306, -16.9769, -12.6517,  -6.9788,\n",
       "         -15.8919,  -9.3185,   5.1505, -14.8274],\n",
       "        [-20.0384, -15.6641,  -8.2409, -14.0507,  -8.8700,   1.3705,\n",
       "         -10.7858, -11.6049,   3.0886, -16.0297],\n",
       "        [ -6.5162, -15.4477,  -8.3246, -20.3333, -14.3743,  -9.2073,\n",
       "          -7.7357,  -5.8985,  -2.5781, -20.6562],\n",
       "        [ -5.8575, -14.5971, -11.6141, -14.8895, -11.4746,  12.9019,\n",
       "         -11.1352,   0.0238, -10.1374, -19.4777],\n",
       "        [-12.0832, -11.7988,  -7.6596, -23.7827, -12.3596,  -9.1212,\n",
       "         -16.0393,  -0.6186,   4.9304, -22.2742],\n",
       "        [-15.3857, -12.0787, -12.6144,  -8.3640,  -7.4197,   8.2288,\n",
       "         -10.6239,   2.1291,   2.8125, -23.2597],\n",
       "        [ -5.7621,  -3.0597,  -4.4904, -25.9059, -12.9741,  -9.2378,\n",
       "         -12.9674,  -6.6586,   6.0399, -22.4796],\n",
       "        [-10.0829, -19.3617, -17.4522, -10.2298,  -3.3918,  -9.1995,\n",
       "         -10.9956,  12.6407,  -4.7102, -24.0451]])"
      ]
     },
     "execution_count": 5,
     "metadata": {},
     "output_type": "execute_result"
    }
   ],
   "source": [
    "## Your solution\n",
    "def activation(x):\n",
    "    return 1/(1+torch.exp(-x))\n",
    "\n",
    "inputs = images.view(images.shape[0],-1)# Flattening the images from 2D to 1D\n",
    "\n",
    "# Weights and the bias for the input and the hidden layers\n",
    "w1 = torch.randn(784,256)\n",
    "b1 = torch.randn(256)\n",
    "\n",
    "# Weights and the bias for the hidden layer and the output layer\n",
    "w2 = torch.randn(256,10)\n",
    "b2 = torch.randn(10)\n",
    "\n",
    "# Activation till the layer before output layer\n",
    "h = activation(torch.mm(inputs,w1)+b1)\n",
    "\n",
    "# The output layer(Activation is not applied to it)\n",
    "out = torch.mm(h,w2)+b2\n",
    "out"
   ]
  },
  {
   "cell_type": "markdown",
   "metadata": {},
   "source": [
    "# Now we have 10 outputs for our network. We want to pass in an image to our network and get out a probability distribution over the classes that tells us the likely class(es) the image belongs to. Something that looks like this:\n",
    "<img src='assets/image_distribution.png' width=500px>\n",
    "\n",
    "Here we see that the probability for each class is roughly the same. This is representing an untrained network, it hasn't seen any data yet so it just returns a uniform distribution with equal probabilities for each class.\n",
    "\n",
    "To calculate this probability distribution, we often use the [**softmax** function](https://en.wikipedia.org/wiki/Softmax_function). Mathematically this looks like\n",
    "\n",
    "$$\n",
    "\\Large \\sigma(x_i) = \\cfrac{e^{x_i}}{\\sum_k^K{e^{x_k}}}\n",
    "$$\n",
    "\n",
    "What this does is squish each input $x_i$ between 0 and 1 and normalizes the values to give you a proper probability distribution where the probabilites sum up to one.\n",
    "\n",
    "> **Exercise:** Implement a function `softmax` that performs the softmax calculation and returns probability distributions for each example in the batch. Note that you'll need to pay attention to the shapes when doing this. If you have a tensor `a` with shape `(64, 10)` and a tensor `b` with shape `(64,)`, doing `a/b` will give you an error because PyTorch will try to do the division across the columns (called broadcasting) but you'll get a size mismatch. The way to think about this is for each of the 64 examples, you only want to divide by one value, the sum in the denominator. So you need `b` to have a shape of `(64, 1)`. This way PyTorch will divide the 10 values in each row of `a` by the one value in each row of `b`. Pay attention to how you take the sum as well. You'll need to define the `dim` keyword in `torch.sum`. Setting `dim=0` takes the sum across the rows while `dim=1` takes the sum across the columns."
   ]
  },
  {
   "cell_type": "code",
   "execution_count": 6,
   "metadata": {},
   "outputs": [
    {
     "name": "stdout",
     "output_type": "stream",
     "text": [
      "torch.Size([64, 10])\n",
      "tensor([ 1.0000,  1.0000,  1.0000,  1.0000,  1.0000,  1.0000,  1.0000,\n",
      "         1.0000,  1.0000,  1.0000,  1.0000,  1.0000,  1.0000,  1.0000,\n",
      "         1.0000,  1.0000,  1.0000,  1.0000,  1.0000,  1.0000,  1.0000,\n",
      "         1.0000,  1.0000,  1.0000,  1.0000,  1.0000,  1.0000,  1.0000,\n",
      "         1.0000,  1.0000,  1.0000,  1.0000,  1.0000,  1.0000,  1.0000,\n",
      "         1.0000,  1.0000,  1.0000,  1.0000,  1.0000,  1.0000,  1.0000,\n",
      "         1.0000,  1.0000,  1.0000,  1.0000,  1.0000,  1.0000,  1.0000,\n",
      "         1.0000,  1.0000,  1.0000,  1.0000,  1.0000,  1.0000,  1.0000,\n",
      "         1.0000,  1.0000,  1.0000,  1.0000,  1.0000,  1.0000,  1.0000,\n",
      "         1.0000])\n"
     ]
    }
   ],
   "source": [
    "def softmax(x):\n",
    "    return torch.exp(x)/torch.sum(torch.exp(x),dim=1).view(-1,1)\n",
    "\n",
    "# Here, out should be the output of the network in the previous excercise with shape (64,10)\n",
    "probabilities = softmax(out)\n",
    "\n",
    "# Does it have the right shape? Should be (64, 10)\n",
    "print(probabilities.shape)\n",
    "# Does it sum to 1?\n",
    "print(probabilities.sum(dim=1))"
   ]
  },
  {
   "cell_type": "markdown",
   "metadata": {},
   "source": [
    "## Building networks with PyTorch\n",
    "\n",
    "PyTorch provides a module `nn` that makes building networks much simpler. Here I'll show you how to build the same one as above with 784 inputs, 256 hidden units, 10 output units and a softmax output."
   ]
  },
  {
   "cell_type": "code",
   "execution_count": 7,
   "metadata": {},
   "outputs": [],
   "source": [
    "from torch import nn"
   ]
  },
  {
   "cell_type": "code",
   "execution_count": 8,
   "metadata": {},
   "outputs": [],
   "source": [
    "class Network(nn.Module):\n",
    "    def __init__(self):\n",
    "        super().__init__()\n",
    "        \n",
    "        # Inputs to hidden layer linear transformation\n",
    "        self.hidden = nn.Linear(784, 256)\n",
    "        # Output layer, 10 units - one for each digit\n",
    "        self.output = nn.Linear(256, 10)\n",
    "        \n",
    "        # Define sigmoid activation and softmax output \n",
    "        self.sigmoid = nn.Sigmoid()\n",
    "        self.softmax = nn.Softmax(dim=1)\n",
    "        \n",
    "    def forward(self, x):\n",
    "        # Pass the input tensor through each of our operations\n",
    "        x = self.hidden(x)\n",
    "        x = self.sigmoid(x)\n",
    "        x = self.output(x)\n",
    "        x = self.softmax(x)\n",
    "        \n",
    "        return x"
   ]
  },
  {
   "cell_type": "markdown",
   "metadata": {},
   "source": [
    "Let's go through this bit by bit.\n",
    "\n",
    "```python\n",
    "class Network(nn.Module):\n",
    "```\n",
    "\n",
    "Here we're inheriting from `nn.Module`. Combined with `super().__init__()` this creates a class that tracks the architecture and provides a lot of useful methods and attributes. It is mandatory to inherit from `nn.Module` when you're creating a class for your network. The name of the class itself can be anything.\n",
    "\n",
    "```python\n",
    "self.hidden = nn.Linear(784, 256)\n",
    "```\n",
    "\n",
    "This line creates a module for a linear transformation, $x\\mathbf{W} + b$, with 784 inputs and 256 outputs and assigns it to `self.hidden`. The module automatically creates the weight and bias tensors which we'll use in the `forward` method. You can access the weight and bias tensors once the network (`net`) is created with `net.hidden.weight` and `net.hidden.bias`.\n",
    "\n",
    "```python\n",
    "self.output = nn.Linear(256, 10)\n",
    "```\n",
    "\n",
    "Similarly, this creates another linear transformation with 256 inputs and 10 outputs.\n",
    "\n",
    "```python\n",
    "self.sigmoid = nn.Sigmoid()\n",
    "self.softmax = nn.Softmax(dim=1)\n",
    "```\n",
    "\n",
    "Here I defined operations for the sigmoid activation and softmax output. Setting `dim=1` in `nn.Softmax(dim=1)` calculates softmax across the columns.\n",
    "\n",
    "```python\n",
    "def forward(self, x):\n",
    "```\n",
    "\n",
    "PyTorch networks created with `nn.Module` must have a `forward` method defined. It takes in a tensor `x` and passes it through the operations you defined in the `__init__` method.\n",
    "\n",
    "```python\n",
    "x = self.hidden(x)\n",
    "x = self.sigmoid(x)\n",
    "x = self.output(x)\n",
    "x = self.softmax(x)\n",
    "```\n",
    "\n",
    "Here the input tensor `x` is passed through each operation a reassigned to `x`. We can see that the input tensor goes through the hidden layer, then a sigmoid function, then the output layer, and finally the softmax function. It doesn't matter what you name the variables here, as long as the inputs and outputs of the operations match the network architecture you want to build. The order in which you define things in the `__init__` method doesn't matter, but you'll need to sequence the operations correctly in the `forward` method.\n",
    "\n",
    "Now we can create a `Network` object."
   ]
  },
  {
   "cell_type": "code",
   "execution_count": 9,
   "metadata": {},
   "outputs": [
    {
     "data": {
      "text/plain": [
       "Network(\n",
       "  (hidden): Linear(in_features=784, out_features=256, bias=True)\n",
       "  (output): Linear(in_features=256, out_features=10, bias=True)\n",
       "  (sigmoid): Sigmoid()\n",
       "  (softmax): Softmax()\n",
       ")"
      ]
     },
     "execution_count": 9,
     "metadata": {},
     "output_type": "execute_result"
    }
   ],
   "source": [
    "# Create the network and look at it's text representation\n",
    "model = Network()\n",
    "model"
   ]
  },
  {
   "cell_type": "markdown",
   "metadata": {},
   "source": [
    "You can define the network somewhat more concisely and clearly using the `torch.nn.functional` module. This is the most common way you'll see networks defined as many operations are simple element-wise functions. We normally import this module as `F`, `import torch.nn.functional as F`."
   ]
  },
  {
   "cell_type": "code",
   "execution_count": 10,
   "metadata": {},
   "outputs": [],
   "source": [
    "import torch.nn.functional as F\n",
    "\n",
    "class Network(nn.Module):\n",
    "    def __init__(self):\n",
    "        super().__init__()\n",
    "        # Inputs to hidden layer linear transformation\n",
    "        self.hidden = nn.Linear(784, 256)\n",
    "        # Output layer, 10 units - one for each digit\n",
    "        self.output = nn.Linear(256, 10)\n",
    "        \n",
    "    def forward(self, x):\n",
    "        # Hidden layer with sigmoid activation\n",
    "        x = F.sigmoid(self.hidden(x))\n",
    "        # Output layer with softmax activation\n",
    "        x = F.softmax(self.output(x), dim=1)\n",
    "        \n",
    "        return x"
   ]
  },
  {
   "cell_type": "markdown",
   "metadata": {},
   "source": [
    "### Activation functions\n",
    "\n",
    "So far we've only been looking at the softmax activation, but in general any function can be used as an activation function. The only requirement is that for a network to approximate a non-linear function, the activation functions must be non-linear. Here are a few more examples of common activation functions: Tanh (hyperbolic tangent), and ReLU (rectified linear unit).\n",
    "\n",
    "<img src=\"assets/activation.png\" width=700px>\n",
    "\n",
    "In practice, the ReLU function is used almost exclusively as the activation function for hidden layers."
   ]
  },
  {
   "cell_type": "markdown",
   "metadata": {},
   "source": [
    "### Your Turn to Build a Network\n",
    "\n",
    "<img src=\"assets/mlp_mnist.png\" width=600px>\n",
    "\n",
    "> **Exercise:** Create a network with 784 input units, a hidden layer with 128 units and a ReLU activation, then a hidden layer with 64 units and a ReLU activation, and finally an output layer with a softmax activation as shown above. You can use a ReLU activation with the `nn.ReLU` module or `F.relu` function."
   ]
  },
  {
   "cell_type": "code",
   "execution_count": 11,
   "metadata": {
    "scrolled": true
   },
   "outputs": [
    {
     "data": {
      "text/plain": [
       "Network(\n",
       "  (fc1): Linear(in_features=784, out_features=128, bias=True)\n",
       "  (fc2): Linear(in_features=128, out_features=64, bias=True)\n",
       "  (fc3): Linear(in_features=64, out_features=10, bias=True)\n",
       ")"
      ]
     },
     "execution_count": 11,
     "metadata": {},
     "output_type": "execute_result"
    }
   ],
   "source": [
    "## Your solution here\n",
    "import torch.nn.functional as F\n",
    "\n",
    "class Network(nn.Module):\n",
    "    def __init__(self):\n",
    "        super().__init__()\n",
    "        self.fc1 = nn.Linear(784,128)\n",
    "        self.fc2 = nn.Linear(128,64)\n",
    "        self.fc3 = nn.Linear(64,10)\n",
    "        \n",
    "    def forward(self,x):\n",
    "        x = F.relu(self.fc1(x))\n",
    "        x = F.relu(self.fc2(x))\n",
    "        x = F.softmax(self.fc3(x),dim=1)\n",
    "        return x\n",
    "        \n",
    "model = Network()\n",
    "model"
   ]
  },
  {
   "cell_type": "markdown",
   "metadata": {},
   "source": [
    "### Initializing weights and biases\n",
    "\n",
    "The weights and such are automatically initialized for you, but it's possible to customize how they are initialized. The weights and biases are tensors attached to the layer you defined, you can get them with `model.fc1.weight` for instance."
   ]
  },
  {
   "cell_type": "code",
   "execution_count": 12,
   "metadata": {},
   "outputs": [
    {
     "name": "stdout",
     "output_type": "stream",
     "text": [
      "Parameter containing:\n",
      "tensor([[ 2.4262e-02, -1.4024e-02,  6.2073e-03,  ..., -1.1907e-02,\n",
      "          2.8406e-02,  2.1989e-03],\n",
      "        [ 8.9584e-03,  2.3591e-02,  1.7324e-02,  ..., -9.7239e-03,\n",
      "         -1.5405e-03, -2.0311e-02],\n",
      "        [ 2.2180e-02,  1.7667e-02,  3.3015e-02,  ...,  2.4086e-02,\n",
      "         -1.0950e-02,  2.6092e-02],\n",
      "        ...,\n",
      "        [ 3.4393e-02, -6.4144e-04, -3.4672e-02,  ...,  1.8578e-02,\n",
      "          2.3175e-02, -1.9050e-02],\n",
      "        [-4.1714e-03,  5.3553e-03,  6.5999e-03,  ..., -3.2566e-03,\n",
      "          4.1537e-03, -2.7808e-02],\n",
      "        [ 1.4140e-02, -2.7234e-02, -4.8911e-03,  ..., -1.2233e-02,\n",
      "          1.7318e-02,  1.0986e-02]])\n",
      "Parameter containing:\n",
      "tensor(1.00000e-02 *\n",
      "       [ 1.8084, -1.7500,  2.2356, -2.6941, -0.3482, -2.9286, -0.9319,\n",
      "        -0.4179,  3.0889, -2.1929, -0.8056,  0.6676,  1.2416,  1.4909,\n",
      "         1.1392,  1.7975, -2.6023,  3.2603,  0.0564, -2.1242,  2.3048,\n",
      "         1.3039,  3.2146, -2.2261,  2.0581, -1.2632,  0.2778, -2.7475,\n",
      "        -3.3534, -2.9019, -1.8138,  1.6954,  3.2525, -1.3300, -1.3427,\n",
      "         1.8142, -0.6665,  0.5113, -2.0554,  2.7776,  2.3080,  2.5373,\n",
      "         0.9571,  3.1654, -3.2552,  2.5097, -3.1191, -2.6358, -0.6972,\n",
      "        -0.9975, -1.5053, -0.2129,  1.2841, -1.2046,  0.5839,  0.7736,\n",
      "        -1.5965, -1.6027,  2.2490,  3.4609, -0.7560, -2.5087,  1.7168,\n",
      "        -1.7100, -0.5904,  3.4345,  2.8009,  2.3503, -3.4162,  2.4374,\n",
      "        -2.4964, -1.6095, -3.2113,  1.2843, -3.3377, -0.0576, -0.4734,\n",
      "         1.8171, -0.3574, -0.3104,  1.0295, -0.0807, -2.6230, -1.6171,\n",
      "        -3.0661,  1.4694,  2.6829, -0.9419, -0.4045,  2.0476,  0.6160,\n",
      "        -1.8219,  2.4871, -0.3577,  2.5604,  3.4850,  0.9909, -2.7274,\n",
      "        -0.2180,  1.3790,  1.2451, -0.4635, -1.7255, -1.2906,  3.1896,\n",
      "         2.3454, -2.6606, -1.7747,  0.4872, -1.4497, -0.2023,  2.4772,\n",
      "        -2.5414,  0.8721, -2.9827, -0.6410,  3.5076,  2.8071, -0.7746,\n",
      "         3.4400,  1.0046,  2.3936, -1.5254,  3.2556,  3.0872,  2.1821,\n",
      "         1.7869, -3.2414])\n"
     ]
    }
   ],
   "source": [
    "print(model.fc1.weight)\n",
    "print(model.fc1.bias)"
   ]
  },
  {
   "cell_type": "markdown",
   "metadata": {},
   "source": [
    "For custom initialization, we want to modify these tensors in place. These are actually autograd *Variables*, so we need to get back the actual tensors with `model.fc1.weight.data`. Once we have the tensors, we can fill them with zeros (for biases) or random normal values."
   ]
  },
  {
   "cell_type": "code",
   "execution_count": 13,
   "metadata": {},
   "outputs": [
    {
     "data": {
      "text/plain": [
       "tensor([ 0.,  0.,  0.,  0.,  0.,  0.,  0.,  0.,  0.,  0.,  0.,  0.,\n",
       "         0.,  0.,  0.,  0.,  0.,  0.,  0.,  0.,  0.,  0.,  0.,  0.,\n",
       "         0.,  0.,  0.,  0.,  0.,  0.,  0.,  0.,  0.,  0.,  0.,  0.,\n",
       "         0.,  0.,  0.,  0.,  0.,  0.,  0.,  0.,  0.,  0.,  0.,  0.,\n",
       "         0.,  0.,  0.,  0.,  0.,  0.,  0.,  0.,  0.,  0.,  0.,  0.,\n",
       "         0.,  0.,  0.,  0.,  0.,  0.,  0.,  0.,  0.,  0.,  0.,  0.,\n",
       "         0.,  0.,  0.,  0.,  0.,  0.,  0.,  0.,  0.,  0.,  0.,  0.,\n",
       "         0.,  0.,  0.,  0.,  0.,  0.,  0.,  0.,  0.,  0.,  0.,  0.,\n",
       "         0.,  0.,  0.,  0.,  0.,  0.,  0.,  0.,  0.,  0.,  0.,  0.,\n",
       "         0.,  0.,  0.,  0.,  0.,  0.,  0.,  0.,  0.,  0.,  0.,  0.,\n",
       "         0.,  0.,  0.,  0.,  0.,  0.,  0.,  0.])"
      ]
     },
     "execution_count": 13,
     "metadata": {},
     "output_type": "execute_result"
    }
   ],
   "source": [
    "# Set biases to all zeros\n",
    "model.fc1.bias.data.fill_(0)"
   ]
  },
  {
   "cell_type": "code",
   "execution_count": 14,
   "metadata": {},
   "outputs": [
    {
     "data": {
      "text/plain": [
       "tensor([[-3.6027e-03, -1.2617e-02, -4.8096e-03,  ...,  1.2542e-03,\n",
       "         -2.4411e-02, -1.5623e-02],\n",
       "        [ 6.6006e-03,  6.3729e-03,  2.6830e-03,  ..., -1.7279e-02,\n",
       "          2.1912e-02, -1.1945e-02],\n",
       "        [-5.3210e-03,  8.8379e-03,  8.9693e-03,  ..., -3.0422e-02,\n",
       "          2.6281e-03, -9.4612e-03],\n",
       "        ...,\n",
       "        [ 3.0917e-03, -1.6258e-03,  7.8404e-03,  ...,  8.4052e-03,\n",
       "          7.1260e-03, -3.1444e-03],\n",
       "        [ 2.4286e-03,  2.4902e-03, -7.9767e-03,  ...,  9.5600e-03,\n",
       "          1.2895e-02,  1.0829e-03],\n",
       "        [ 3.8221e-03,  2.3940e-04,  7.1270e-03,  ...,  1.0829e-02,\n",
       "          5.9267e-03, -7.7487e-03]])"
      ]
     },
     "execution_count": 14,
     "metadata": {},
     "output_type": "execute_result"
    }
   ],
   "source": [
    "# sample from random normal with standard dev = 0.01\n",
    "model.fc1.weight.data.normal_(std=0.01)"
   ]
  },
  {
   "cell_type": "markdown",
   "metadata": {},
   "source": [
    "### Forward pass\n",
    "\n",
    "Now that we have a network, let's see what happens when we pass in an image."
   ]
  },
  {
   "cell_type": "code",
   "execution_count": 15,
   "metadata": {},
   "outputs": [
    {
     "data": {
      "image/png": "[encoded data removed]",
      "text/plain": [
       "<matplotlib.figure.Figure at 0x7fe6472ff358>"
      ]
     },
     "metadata": {
      "image/png": {
       "height": 224,
       "width": 423
      },
      "needs_background": "light"
     },
     "output_type": "display_data"
    }
   ],
   "source": [
    "# Grab some data \n",
    "dataiter = iter(trainloader)\n",
    "images, labels = dataiter.next()\n",
    "\n",
    "# Resize images into a 1D vector, new shape is (batch size, color channels, image pixels) \n",
    "images.resize_(64, 1, 784)\n",
    "# or images.resize_(images.shape[0], 1, 784) to automatically get batch size\n",
    "\n",
    "# Forward pass through the network\n",
    "img_idx = 0\n",
    "ps = model.forward(images[img_idx,:])\n",
    "\n",
    "img = images[img_idx]\n",
    "helper.view_classify(img.view(1, 28, 28), ps)"
   ]
  },
  {
   "cell_type": "markdown",
   "metadata": {},
   "source": [
    "As you can see above, our network has basically no idea what this digit is. It's because we haven't trained it yet, all the weights are random!\n",
    "\n",
    "### Using `nn.Sequential`\n",
    "\n",
    "PyTorch provides a convenient way to build networks like this where a tensor is passed sequentially through operations, `nn.Sequential` ([documentation](https://pytorch.org/docs/master/nn.html#torch.nn.Sequential)). Using this to build the equivalent network:"
   ]
  },
  {
   "cell_type": "code",
   "execution_count": 16,
   "metadata": {},
   "outputs": [
    {
     "name": "stdout",
     "output_type": "stream",
     "text": [
      "Sequential(\n",
      "  (0): Linear(in_features=784, out_features=128, bias=True)\n",
      "  (1): ReLU()\n",
      "  (2): Linear(in_features=128, out_features=64, bias=True)\n",
      "  (3): ReLU()\n",
      "  (4): Linear(in_features=64, out_features=10, bias=True)\n",
      "  (5): Softmax()\n",
      ")\n"
     ]
    },
    {
     "data": {
      "image/png": "[encoded data removed]",
      "text/plain": [
       "<matplotlib.figure.Figure at 0x7fe5efdea128>"
      ]
     },
     "metadata": {
      "image/png": {
       "height": 224,
       "width": 423
      },
      "needs_background": "light"
     },
     "output_type": "display_data"
    }
   ],
   "source": [
    "# Hyperparameters for our network\n",
    "input_size = 784\n",
    "hidden_sizes = [128, 64]\n",
    "output_size = 10\n",
    "\n",
    "# Build a feed-forward network\n",
    "model = nn.Sequential(nn.Linear(input_size, hidden_sizes[0]),\n",
    "                      nn.ReLU(),\n",
    "                      nn.Linear(hidden_sizes[0], hidden_sizes[1]),\n",
    "                      nn.ReLU(),\n",
    "                      nn.Linear(hidden_sizes[1], output_size),\n",
    "                      nn.Softmax(dim=1))\n",
    "print(model)\n",
    "\n",
    "# Forward pass through the network and display output\n",
    "images, labels = next(iter(trainloader))\n",
    "images.resize_(images.shape[0], 1, 784)\n",
    "ps = model.forward(images[0,:])\n",
    "helper.view_classify(images[0].view(1, 28, 28), ps)"
   ]
  },
  {
   "cell_type": "markdown",
   "metadata": {},
   "source": [
    "Here our model is the same as before: 784 input units, a hidden layer with 128 units, ReLU activation, 64 unit hidden layer, another ReLU, then the output layer with 10 units, and the softmax output.\n",
    "\n",
    "The operations are availble by passing in the appropriate index. For example, if you want to get first Linear operation and look at the weights, you'd use `model[0]`."
   ]
  },
  {
   "cell_type": "code",
   "execution_count": 17,
   "metadata": {},
   "outputs": [
    {
     "name": "stdout",
     "output_type": "stream",
     "text": [
      "Linear(in_features=784, out_features=128, bias=True)\n"
     ]
    },
    {
     "data": {
      "text/plain": [
       "Parameter containing:\n",
       "tensor([[ 2.0674e-02,  9.2105e-03,  2.4283e-02,  ...,  1.1351e-02,\n",
       "          2.6374e-02, -3.4410e-02],\n",
       "        [ 1.5104e-02, -1.6473e-02, -9.2133e-03,  ...,  3.5049e-02,\n",
       "          1.9384e-02,  2.1655e-02],\n",
       "        [ 1.6560e-02, -2.8701e-02,  2.5510e-02,  ...,  9.3082e-03,\n",
       "         -3.1923e-02, -2.5875e-02],\n",
       "        ...,\n",
       "        [ 3.0657e-02,  1.1642e-02, -2.4984e-02,  ...,  1.7126e-02,\n",
       "          5.1918e-04,  1.7251e-02],\n",
       "        [-1.0693e-03,  2.6563e-02,  1.1617e-02,  ..., -1.6123e-02,\n",
       "          2.9206e-02, -3.2403e-02],\n",
       "        [ 2.6340e-02, -4.2567e-03, -9.0500e-03,  ...,  2.4337e-02,\n",
       "         -3.1889e-02, -3.5384e-02]])"
      ]
     },
     "execution_count": 17,
     "metadata": {},
     "output_type": "execute_result"
    }
   ],
   "source": [
    "print(model[0])\n",
    "model[0].weight"
   ]
  },
  {
   "cell_type": "markdown",
   "metadata": {},
   "source": [
    "You can also pass in an `OrderedDict` to name the individual layers and operations, instead of using incremental integers. Note that dictionary keys must be unique, so _each operation must have a different name_."
   ]
  },
  {
   "cell_type": "code",
   "execution_count": 18,
   "metadata": {},
   "outputs": [
    {
     "data": {
      "text/plain": [
       "Sequential(\n",
       "  (fc1): Linear(in_features=784, out_features=128, bias=True)\n",
       "  (relu1): ReLU()\n",
       "  (fc2): Linear(in_features=128, out_features=64, bias=True)\n",
       "  (relu2): ReLU()\n",
       "  (output): Linear(in_features=64, out_features=10, bias=True)\n",
       "  (softmax): Softmax()\n",
       ")"
      ]
     },
     "execution_count": 18,
     "metadata": {},
     "output_type": "execute_result"
    }
   ],
   "source": [
    "from collections import OrderedDict\n",
    "model = nn.Sequential(OrderedDict([\n",
    "                      ('fc1', nn.Linear(input_size, hidden_sizes[0])),\n",
    "                      ('relu1', nn.ReLU()),\n",
    "                      ('fc2', nn.Linear(hidden_sizes[0], hidden_sizes[1])),\n",
    "                      ('relu2', nn.ReLU()),\n",
    "                      ('output', nn.Linear(hidden_sizes[1], output_size)),\n",
    "                      ('softmax', nn.Softmax(dim=1))]))\n",
    "model"
   ]
  },
  {
   "cell_type": "markdown",
   "metadata": {},
   "source": [
    "Now you can access layers either by integer or the name"
   ]
  },
  {
   "cell_type": "code",
   "execution_count": 19,
   "metadata": {},
   "outputs": [
    {
     "name": "stdout",
     "output_type": "stream",
     "text": [
      "Linear(in_features=784, out_features=128, bias=True)\n",
      "Linear(in_features=784, out_features=128, bias=True)\n"
     ]
    }
   ],
   "source": [
    "print(model[0])\n",
    "print(model.fc1)"
   ]
  },
  {
   "cell_type": "markdown",
   "metadata": {},
   "source": [
    "In the next notebook, we'll see how we can train a neural network to accuractly predict the numbers appearing in the MNIST images."
   ]
  }
 ],
 "metadata": {
  "kernelspec": {
   "display_name": "Python 3",
   "language": "python",
   "name": "python3"
  },
  "language_info": {
   "codemirror_mode": {
    "name": "ipython",
    "version": 3
   },
   "file_extension": ".py",
   "mimetype": "text/x-python",
   "name": "python",
   "nbconvert_exporter": "python",
   "pygments_lexer": "ipython3",
   "version": "3.6.3"
  }
 },
 "nbformat": 4,
 "nbformat_minor": 2
}
