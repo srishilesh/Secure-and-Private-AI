{
  "nbformat": 4,
  "nbformat_minor": 0,
  "metadata": {
    "colab": {
      "name": "Secure and Private AI_ Lesson 2",
      "version": "0.3.2",
      "provenance": [],
      "collapsed_sections": []
    },
    "kernelspec": {
      "name": "python3",
      "display_name": "Python 3"
    }
  },
  "cells": [
    {
      "cell_type": "code",
      "metadata": {
        "id": "4FkIFfmQE6aB",
        "colab_type": "code",
        "outputId": "9285056d-74a6-4345-e65a-6abff6ed77ce",
        "colab": {
          "base_uri": "https://localhost:8080/",
          "height": 34
        }
      },
      "source": [
        "import torch\n",
        "\n",
        "num_entries = 5000\n",
        "\n",
        "db = torch.rand(num_entries) > 0.5\n",
        "db"
      ],
      "execution_count": 52,
      "outputs": [
        {
          "output_type": "execute_result",
          "data": {
            "text/plain": [
              "tensor([0, 1, 1,  ..., 1, 0, 1], dtype=torch.uint8)"
            ]
          },
          "metadata": {
            "tags": []
          },
          "execution_count": 52
        }
      ]
    },
    {
      "cell_type": "code",
      "metadata": {
        "id": "RR8Nw5g7FKyB",
        "colab_type": "code",
        "outputId": "ac161dd8-5cb1-4316-ed7e-9a5ac7cf3e74",
        "colab": {
          "base_uri": "https://localhost:8080/",
          "height": 34
        }
      },
      "source": [
        "db = torch.rand(num_entries) > 0.5\n",
        "db"
      ],
      "execution_count": 53,
      "outputs": [
        {
          "output_type": "execute_result",
          "data": {
            "text/plain": [
              "tensor([0, 0, 1,  ..., 1, 1, 0], dtype=torch.uint8)"
            ]
          },
          "metadata": {
            "tags": []
          },
          "execution_count": 53
        }
      ]
    },
    {
      "cell_type": "code",
      "metadata": {
        "id": "wGpfNGC0GbLZ",
        "colab_type": "code",
        "outputId": "e5cfdbc0-194c-4c45-e199-2c5accba88f6",
        "colab": {
          "base_uri": "https://localhost:8080/",
          "height": 34
        }
      },
      "source": [
        "torch.cat((db[1:2],db[3:]))[0:5]"
      ],
      "execution_count": 54,
      "outputs": [
        {
          "output_type": "execute_result",
          "data": {
            "text/plain": [
              "tensor([0, 0, 0, 1, 1], dtype=torch.uint8)"
            ]
          },
          "metadata": {
            "tags": []
          },
          "execution_count": 54
        }
      ]
    },
    {
      "cell_type": "code",
      "metadata": {
        "id": "98TYmXngGdVW",
        "colab_type": "code",
        "colab": {}
      },
      "source": [
        "def get_parallel_db(db,remove_index):\n",
        "  return torch.cat((db[0:remove_index],\n",
        "            db[remove_index+1:]))"
      ],
      "execution_count": 0,
      "outputs": []
    },
    {
      "cell_type": "code",
      "metadata": {
        "id": "K2_CRtweHAnO",
        "colab_type": "code",
        "outputId": "6f0ab48d-6840-40a2-df0c-cc37720c67d4",
        "colab": {
          "base_uri": "https://localhost:8080/",
          "height": 34
        }
      },
      "source": [
        "get_parallel_db(db,3).shape"
      ],
      "execution_count": 56,
      "outputs": [
        {
          "output_type": "execute_result",
          "data": {
            "text/plain": [
              "torch.Size([4999])"
            ]
          },
          "metadata": {
            "tags": []
          },
          "execution_count": 56
        }
      ]
    },
    {
      "cell_type": "code",
      "metadata": {
        "id": "hZxHTIaMHC4o",
        "colab_type": "code",
        "colab": {}
      },
      "source": [
        "def get_parallel_dbs(db):\n",
        "  parallel_db = list()\n",
        "  \n",
        "  for i in range(len(db)):\n",
        "    pds = get_parallel_db(db,i)\n",
        "    parallel_db.append(pds)\n",
        "    \n",
        "  return parallel_db\n"
      ],
      "execution_count": 0,
      "outputs": []
    },
    {
      "cell_type": "code",
      "metadata": {
        "id": "Yik1V_d3H7zK",
        "colab_type": "code",
        "outputId": "a24dc76d-023b-4aca-d30a-7dbfc7735e0c",
        "colab": {
          "base_uri": "https://localhost:8080/",
          "height": 1000
        }
      },
      "source": [
        "pdbs = get_parallel_dbs(db)\n",
        "pdbs"
      ],
      "execution_count": 58,
      "outputs": [
        {
          "output_type": "execute_result",
          "data": {
            "text/plain": [
              "[tensor([0, 1, 0,  ..., 1, 1, 0], dtype=torch.uint8),\n",
              " tensor([0, 1, 0,  ..., 1, 1, 0], dtype=torch.uint8),\n",
              " tensor([0, 0, 0,  ..., 1, 1, 0], dtype=torch.uint8),\n",
              " tensor([0, 0, 1,  ..., 1, 1, 0], dtype=torch.uint8),\n",
              " tensor([0, 0, 1,  ..., 1, 1, 0], dtype=torch.uint8),\n",
              " tensor([0, 0, 1,  ..., 1, 1, 0], dtype=torch.uint8),\n",
              " tensor([0, 0, 1,  ..., 1, 1, 0], dtype=torch.uint8),\n",
              " tensor([0, 0, 1,  ..., 1, 1, 0], dtype=torch.uint8),\n",
              " tensor([0, 0, 1,  ..., 1, 1, 0], dtype=torch.uint8),\n",
              " tensor([0, 0, 1,  ..., 1, 1, 0], dtype=torch.uint8),\n",
              " tensor([0, 0, 1,  ..., 1, 1, 0], dtype=torch.uint8),\n",
              " tensor([0, 0, 1,  ..., 1, 1, 0], dtype=torch.uint8),\n",
              " tensor([0, 0, 1,  ..., 1, 1, 0], dtype=torch.uint8),\n",
              " tensor([0, 0, 1,  ..., 1, 1, 0], dtype=torch.uint8),\n",
              " tensor([0, 0, 1,  ..., 1, 1, 0], dtype=torch.uint8),\n",
              " tensor([0, 0, 1,  ..., 1, 1, 0], dtype=torch.uint8),\n",
              " tensor([0, 0, 1,  ..., 1, 1, 0], dtype=torch.uint8),\n",
              " tensor([0, 0, 1,  ..., 1, 1, 0], dtype=torch.uint8),\n",
              " tensor([0, 0, 1,  ..., 1, 1, 0], dtype=torch.uint8),\n",
              " tensor([0, 0, 1,  ..., 1, 1, 0], dtype=torch.uint8),\n",
              " tensor([0, 0, 1,  ..., 1, 1, 0], dtype=torch.uint8),\n",
              " tensor([0, 0, 1,  ..., 1, 1, 0], dtype=torch.uint8),\n",
              " tensor([0, 0, 1,  ..., 1, 1, 0], dtype=torch.uint8),\n",
              " tensor([0, 0, 1,  ..., 1, 1, 0], dtype=torch.uint8),\n",
              " tensor([0, 0, 1,  ..., 1, 1, 0], dtype=torch.uint8),\n",
              " tensor([0, 0, 1,  ..., 1, 1, 0], dtype=torch.uint8),\n",
              " tensor([0, 0, 1,  ..., 1, 1, 0], dtype=torch.uint8),\n",
              " tensor([0, 0, 1,  ..., 1, 1, 0], dtype=torch.uint8),\n",
              " tensor([0, 0, 1,  ..., 1, 1, 0], dtype=torch.uint8),\n",
              " tensor([0, 0, 1,  ..., 1, 1, 0], dtype=torch.uint8),\n",
              " tensor([0, 0, 1,  ..., 1, 1, 0], dtype=torch.uint8),\n",
              " tensor([0, 0, 1,  ..., 1, 1, 0], dtype=torch.uint8),\n",
              " tensor([0, 0, 1,  ..., 1, 1, 0], dtype=torch.uint8),\n",
              " tensor([0, 0, 1,  ..., 1, 1, 0], dtype=torch.uint8),\n",
              " tensor([0, 0, 1,  ..., 1, 1, 0], dtype=torch.uint8),\n",
              " tensor([0, 0, 1,  ..., 1, 1, 0], dtype=torch.uint8),\n",
              " tensor([0, 0, 1,  ..., 1, 1, 0], dtype=torch.uint8),\n",
              " tensor([0, 0, 1,  ..., 1, 1, 0], dtype=torch.uint8),\n",
              " tensor([0, 0, 1,  ..., 1, 1, 0], dtype=torch.uint8),\n",
              " tensor([0, 0, 1,  ..., 1, 1, 0], dtype=torch.uint8),\n",
              " tensor([0, 0, 1,  ..., 1, 1, 0], dtype=torch.uint8),\n",
              " tensor([0, 0, 1,  ..., 1, 1, 0], dtype=torch.uint8),\n",
              " tensor([0, 0, 1,  ..., 1, 1, 0], dtype=torch.uint8),\n",
              " tensor([0, 0, 1,  ..., 1, 1, 0], dtype=torch.uint8),\n",
              " tensor([0, 0, 1,  ..., 1, 1, 0], dtype=torch.uint8),\n",
              " tensor([0, 0, 1,  ..., 1, 1, 0], dtype=torch.uint8),\n",
              " tensor([0, 0, 1,  ..., 1, 1, 0], dtype=torch.uint8),\n",
              " tensor([0, 0, 1,  ..., 1, 1, 0], dtype=torch.uint8),\n",
              " tensor([0, 0, 1,  ..., 1, 1, 0], dtype=torch.uint8),\n",
              " tensor([0, 0, 1,  ..., 1, 1, 0], dtype=torch.uint8),\n",
              " tensor([0, 0, 1,  ..., 1, 1, 0], dtype=torch.uint8),\n",
              " tensor([0, 0, 1,  ..., 1, 1, 0], dtype=torch.uint8),\n",
              " tensor([0, 0, 1,  ..., 1, 1, 0], dtype=torch.uint8),\n",
              " tensor([0, 0, 1,  ..., 1, 1, 0], dtype=torch.uint8),\n",
              " tensor([0, 0, 1,  ..., 1, 1, 0], dtype=torch.uint8),\n",
              " tensor([0, 0, 1,  ..., 1, 1, 0], dtype=torch.uint8),\n",
              " tensor([0, 0, 1,  ..., 1, 1, 0], dtype=torch.uint8),\n",
              " tensor([0, 0, 1,  ..., 1, 1, 0], dtype=torch.uint8),\n",
              " tensor([0, 0, 1,  ..., 1, 1, 0], dtype=torch.uint8),\n",
              " tensor([0, 0, 1,  ..., 1, 1, 0], dtype=torch.uint8),\n",
              " tensor([0, 0, 1,  ..., 1, 1, 0], dtype=torch.uint8),\n",
              " tensor([0, 0, 1,  ..., 1, 1, 0], dtype=torch.uint8),\n",
              " tensor([0, 0, 1,  ..., 1, 1, 0], dtype=torch.uint8),\n",
              " tensor([0, 0, 1,  ..., 1, 1, 0], dtype=torch.uint8),\n",
              " tensor([0, 0, 1,  ..., 1, 1, 0], dtype=torch.uint8),\n",
              " tensor([0, 0, 1,  ..., 1, 1, 0], dtype=torch.uint8),\n",
              " tensor([0, 0, 1,  ..., 1, 1, 0], dtype=torch.uint8),\n",
              " tensor([0, 0, 1,  ..., 1, 1, 0], dtype=torch.uint8),\n",
              " tensor([0, 0, 1,  ..., 1, 1, 0], dtype=torch.uint8),\n",
              " tensor([0, 0, 1,  ..., 1, 1, 0], dtype=torch.uint8),\n",
              " tensor([0, 0, 1,  ..., 1, 1, 0], dtype=torch.uint8),\n",
              " tensor([0, 0, 1,  ..., 1, 1, 0], dtype=torch.uint8),\n",
              " tensor([0, 0, 1,  ..., 1, 1, 0], dtype=torch.uint8),\n",
              " tensor([0, 0, 1,  ..., 1, 1, 0], dtype=torch.uint8),\n",
              " tensor([0, 0, 1,  ..., 1, 1, 0], dtype=torch.uint8),\n",
              " tensor([0, 0, 1,  ..., 1, 1, 0], dtype=torch.uint8),\n",
              " tensor([0, 0, 1,  ..., 1, 1, 0], dtype=torch.uint8),\n",
              " tensor([0, 0, 1,  ..., 1, 1, 0], dtype=torch.uint8),\n",
              " tensor([0, 0, 1,  ..., 1, 1, 0], dtype=torch.uint8),\n",
              " tensor([0, 0, 1,  ..., 1, 1, 0], dtype=torch.uint8),\n",
              " tensor([0, 0, 1,  ..., 1, 1, 0], dtype=torch.uint8),\n",
              " tensor([0, 0, 1,  ..., 1, 1, 0], dtype=torch.uint8),\n",
              " tensor([0, 0, 1,  ..., 1, 1, 0], dtype=torch.uint8),\n",
              " tensor([0, 0, 1,  ..., 1, 1, 0], dtype=torch.uint8),\n",
              " tensor([0, 0, 1,  ..., 1, 1, 0], dtype=torch.uint8),\n",
              " tensor([0, 0, 1,  ..., 1, 1, 0], dtype=torch.uint8),\n",
              " tensor([0, 0, 1,  ..., 1, 1, 0], dtype=torch.uint8),\n",
              " tensor([0, 0, 1,  ..., 1, 1, 0], dtype=torch.uint8),\n",
              " tensor([0, 0, 1,  ..., 1, 1, 0], dtype=torch.uint8),\n",
              " tensor([0, 0, 1,  ..., 1, 1, 0], dtype=torch.uint8),\n",
              " tensor([0, 0, 1,  ..., 1, 1, 0], dtype=torch.uint8),\n",
              " tensor([0, 0, 1,  ..., 1, 1, 0], dtype=torch.uint8),\n",
              " tensor([0, 0, 1,  ..., 1, 1, 0], dtype=torch.uint8),\n",
              " tensor([0, 0, 1,  ..., 1, 1, 0], dtype=torch.uint8),\n",
              " tensor([0, 0, 1,  ..., 1, 1, 0], dtype=torch.uint8),\n",
              " tensor([0, 0, 1,  ..., 1, 1, 0], dtype=torch.uint8),\n",
              " tensor([0, 0, 1,  ..., 1, 1, 0], dtype=torch.uint8),\n",
              " tensor([0, 0, 1,  ..., 1, 1, 0], dtype=torch.uint8),\n",
              " tensor([0, 0, 1,  ..., 1, 1, 0], dtype=torch.uint8),\n",
              " tensor([0, 0, 1,  ..., 1, 1, 0], dtype=torch.uint8),\n",
              " tensor([0, 0, 1,  ..., 1, 1, 0], dtype=torch.uint8),\n",
              " tensor([0, 0, 1,  ..., 1, 1, 0], dtype=torch.uint8),\n",
              " tensor([0, 0, 1,  ..., 1, 1, 0], dtype=torch.uint8),\n",
              " tensor([0, 0, 1,  ..., 1, 1, 0], dtype=torch.uint8),\n",
              " tensor([0, 0, 1,  ..., 1, 1, 0], dtype=torch.uint8),\n",
              " tensor([0, 0, 1,  ..., 1, 1, 0], dtype=torch.uint8),\n",
              " tensor([0, 0, 1,  ..., 1, 1, 0], dtype=torch.uint8),\n",
              " tensor([0, 0, 1,  ..., 1, 1, 0], dtype=torch.uint8),\n",
              " tensor([0, 0, 1,  ..., 1, 1, 0], dtype=torch.uint8),\n",
              " tensor([0, 0, 1,  ..., 1, 1, 0], dtype=torch.uint8),\n",
              " tensor([0, 0, 1,  ..., 1, 1, 0], dtype=torch.uint8),\n",
              " tensor([0, 0, 1,  ..., 1, 1, 0], dtype=torch.uint8),\n",
              " tensor([0, 0, 1,  ..., 1, 1, 0], dtype=torch.uint8),\n",
              " tensor([0, 0, 1,  ..., 1, 1, 0], dtype=torch.uint8),\n",
              " tensor([0, 0, 1,  ..., 1, 1, 0], dtype=torch.uint8),\n",
              " tensor([0, 0, 1,  ..., 1, 1, 0], dtype=torch.uint8),\n",
              " tensor([0, 0, 1,  ..., 1, 1, 0], dtype=torch.uint8),\n",
              " tensor([0, 0, 1,  ..., 1, 1, 0], dtype=torch.uint8),\n",
              " tensor([0, 0, 1,  ..., 1, 1, 0], dtype=torch.uint8),\n",
              " tensor([0, 0, 1,  ..., 1, 1, 0], dtype=torch.uint8),\n",
              " tensor([0, 0, 1,  ..., 1, 1, 0], dtype=torch.uint8),\n",
              " tensor([0, 0, 1,  ..., 1, 1, 0], dtype=torch.uint8),\n",
              " tensor([0, 0, 1,  ..., 1, 1, 0], dtype=torch.uint8),\n",
              " tensor([0, 0, 1,  ..., 1, 1, 0], dtype=torch.uint8),\n",
              " tensor([0, 0, 1,  ..., 1, 1, 0], dtype=torch.uint8),\n",
              " tensor([0, 0, 1,  ..., 1, 1, 0], dtype=torch.uint8),\n",
              " tensor([0, 0, 1,  ..., 1, 1, 0], dtype=torch.uint8),\n",
              " tensor([0, 0, 1,  ..., 1, 1, 0], dtype=torch.uint8),\n",
              " tensor([0, 0, 1,  ..., 1, 1, 0], dtype=torch.uint8),\n",
              " tensor([0, 0, 1,  ..., 1, 1, 0], dtype=torch.uint8),\n",
              " tensor([0, 0, 1,  ..., 1, 1, 0], dtype=torch.uint8),\n",
              " tensor([0, 0, 1,  ..., 1, 1, 0], dtype=torch.uint8),\n",
              " tensor([0, 0, 1,  ..., 1, 1, 0], dtype=torch.uint8),\n",
              " tensor([0, 0, 1,  ..., 1, 1, 0], dtype=torch.uint8),\n",
              " tensor([0, 0, 1,  ..., 1, 1, 0], dtype=torch.uint8),\n",
              " tensor([0, 0, 1,  ..., 1, 1, 0], dtype=torch.uint8),\n",
              " tensor([0, 0, 1,  ..., 1, 1, 0], dtype=torch.uint8),\n",
              " tensor([0, 0, 1,  ..., 1, 1, 0], dtype=torch.uint8),\n",
              " tensor([0, 0, 1,  ..., 1, 1, 0], dtype=torch.uint8),\n",
              " tensor([0, 0, 1,  ..., 1, 1, 0], dtype=torch.uint8),\n",
              " tensor([0, 0, 1,  ..., 1, 1, 0], dtype=torch.uint8),\n",
              " tensor([0, 0, 1,  ..., 1, 1, 0], dtype=torch.uint8),\n",
              " tensor([0, 0, 1,  ..., 1, 1, 0], dtype=torch.uint8),\n",
              " tensor([0, 0, 1,  ..., 1, 1, 0], dtype=torch.uint8),\n",
              " tensor([0, 0, 1,  ..., 1, 1, 0], dtype=torch.uint8),\n",
              " tensor([0, 0, 1,  ..., 1, 1, 0], dtype=torch.uint8),\n",
              " tensor([0, 0, 1,  ..., 1, 1, 0], dtype=torch.uint8),\n",
              " tensor([0, 0, 1,  ..., 1, 1, 0], dtype=torch.uint8),\n",
              " tensor([0, 0, 1,  ..., 1, 1, 0], dtype=torch.uint8),\n",
              " tensor([0, 0, 1,  ..., 1, 1, 0], dtype=torch.uint8),\n",
              " tensor([0, 0, 1,  ..., 1, 1, 0], dtype=torch.uint8),\n",
              " tensor([0, 0, 1,  ..., 1, 1, 0], dtype=torch.uint8),\n",
              " tensor([0, 0, 1,  ..., 1, 1, 0], dtype=torch.uint8),\n",
              " tensor([0, 0, 1,  ..., 1, 1, 0], dtype=torch.uint8),\n",
              " tensor([0, 0, 1,  ..., 1, 1, 0], dtype=torch.uint8),\n",
              " tensor([0, 0, 1,  ..., 1, 1, 0], dtype=torch.uint8),\n",
              " tensor([0, 0, 1,  ..., 1, 1, 0], dtype=torch.uint8),\n",
              " tensor([0, 0, 1,  ..., 1, 1, 0], dtype=torch.uint8),\n",
              " tensor([0, 0, 1,  ..., 1, 1, 0], dtype=torch.uint8),\n",
              " tensor([0, 0, 1,  ..., 1, 1, 0], dtype=torch.uint8),\n",
              " tensor([0, 0, 1,  ..., 1, 1, 0], dtype=torch.uint8),\n",
              " tensor([0, 0, 1,  ..., 1, 1, 0], dtype=torch.uint8),\n",
              " tensor([0, 0, 1,  ..., 1, 1, 0], dtype=torch.uint8),\n",
              " tensor([0, 0, 1,  ..., 1, 1, 0], dtype=torch.uint8),\n",
              " tensor([0, 0, 1,  ..., 1, 1, 0], dtype=torch.uint8),\n",
              " tensor([0, 0, 1,  ..., 1, 1, 0], dtype=torch.uint8),\n",
              " tensor([0, 0, 1,  ..., 1, 1, 0], dtype=torch.uint8),\n",
              " tensor([0, 0, 1,  ..., 1, 1, 0], dtype=torch.uint8),\n",
              " tensor([0, 0, 1,  ..., 1, 1, 0], dtype=torch.uint8),\n",
              " tensor([0, 0, 1,  ..., 1, 1, 0], dtype=torch.uint8),\n",
              " tensor([0, 0, 1,  ..., 1, 1, 0], dtype=torch.uint8),\n",
              " tensor([0, 0, 1,  ..., 1, 1, 0], dtype=torch.uint8),\n",
              " tensor([0, 0, 1,  ..., 1, 1, 0], dtype=torch.uint8),\n",
              " tensor([0, 0, 1,  ..., 1, 1, 0], dtype=torch.uint8),\n",
              " tensor([0, 0, 1,  ..., 1, 1, 0], dtype=torch.uint8),\n",
              " tensor([0, 0, 1,  ..., 1, 1, 0], dtype=torch.uint8),\n",
              " tensor([0, 0, 1,  ..., 1, 1, 0], dtype=torch.uint8),\n",
              " tensor([0, 0, 1,  ..., 1, 1, 0], dtype=torch.uint8),\n",
              " tensor([0, 0, 1,  ..., 1, 1, 0], dtype=torch.uint8),\n",
              " tensor([0, 0, 1,  ..., 1, 1, 0], dtype=torch.uint8),\n",
              " tensor([0, 0, 1,  ..., 1, 1, 0], dtype=torch.uint8),\n",
              " tensor([0, 0, 1,  ..., 1, 1, 0], dtype=torch.uint8),\n",
              " tensor([0, 0, 1,  ..., 1, 1, 0], dtype=torch.uint8),\n",
              " tensor([0, 0, 1,  ..., 1, 1, 0], dtype=torch.uint8),\n",
              " tensor([0, 0, 1,  ..., 1, 1, 0], dtype=torch.uint8),\n",
              " tensor([0, 0, 1,  ..., 1, 1, 0], dtype=torch.uint8),\n",
              " tensor([0, 0, 1,  ..., 1, 1, 0], dtype=torch.uint8),\n",
              " tensor([0, 0, 1,  ..., 1, 1, 0], dtype=torch.uint8),\n",
              " tensor([0, 0, 1,  ..., 1, 1, 0], dtype=torch.uint8),\n",
              " tensor([0, 0, 1,  ..., 1, 1, 0], dtype=torch.uint8),\n",
              " tensor([0, 0, 1,  ..., 1, 1, 0], dtype=torch.uint8),\n",
              " tensor([0, 0, 1,  ..., 1, 1, 0], dtype=torch.uint8),\n",
              " tensor([0, 0, 1,  ..., 1, 1, 0], dtype=torch.uint8),\n",
              " tensor([0, 0, 1,  ..., 1, 1, 0], dtype=torch.uint8),\n",
              " tensor([0, 0, 1,  ..., 1, 1, 0], dtype=torch.uint8),\n",
              " tensor([0, 0, 1,  ..., 1, 1, 0], dtype=torch.uint8),\n",
              " tensor([0, 0, 1,  ..., 1, 1, 0], dtype=torch.uint8),\n",
              " tensor([0, 0, 1,  ..., 1, 1, 0], dtype=torch.uint8),\n",
              " tensor([0, 0, 1,  ..., 1, 1, 0], dtype=torch.uint8),\n",
              " tensor([0, 0, 1,  ..., 1, 1, 0], dtype=torch.uint8),\n",
              " tensor([0, 0, 1,  ..., 1, 1, 0], dtype=torch.uint8),\n",
              " tensor([0, 0, 1,  ..., 1, 1, 0], dtype=torch.uint8),\n",
              " tensor([0, 0, 1,  ..., 1, 1, 0], dtype=torch.uint8),\n",
              " tensor([0, 0, 1,  ..., 1, 1, 0], dtype=torch.uint8),\n",
              " tensor([0, 0, 1,  ..., 1, 1, 0], dtype=torch.uint8),\n",
              " tensor([0, 0, 1,  ..., 1, 1, 0], dtype=torch.uint8),\n",
              " tensor([0, 0, 1,  ..., 1, 1, 0], dtype=torch.uint8),\n",
              " tensor([0, 0, 1,  ..., 1, 1, 0], dtype=torch.uint8),\n",
              " tensor([0, 0, 1,  ..., 1, 1, 0], dtype=torch.uint8),\n",
              " tensor([0, 0, 1,  ..., 1, 1, 0], dtype=torch.uint8),\n",
              " tensor([0, 0, 1,  ..., 1, 1, 0], dtype=torch.uint8),\n",
              " tensor([0, 0, 1,  ..., 1, 1, 0], dtype=torch.uint8),\n",
              " tensor([0, 0, 1,  ..., 1, 1, 0], dtype=torch.uint8),\n",
              " tensor([0, 0, 1,  ..., 1, 1, 0], dtype=torch.uint8),\n",
              " tensor([0, 0, 1,  ..., 1, 1, 0], dtype=torch.uint8),\n",
              " tensor([0, 0, 1,  ..., 1, 1, 0], dtype=torch.uint8),\n",
              " tensor([0, 0, 1,  ..., 1, 1, 0], dtype=torch.uint8),\n",
              " tensor([0, 0, 1,  ..., 1, 1, 0], dtype=torch.uint8),\n",
              " tensor([0, 0, 1,  ..., 1, 1, 0], dtype=torch.uint8),\n",
              " tensor([0, 0, 1,  ..., 1, 1, 0], dtype=torch.uint8),\n",
              " tensor([0, 0, 1,  ..., 1, 1, 0], dtype=torch.uint8),\n",
              " tensor([0, 0, 1,  ..., 1, 1, 0], dtype=torch.uint8),\n",
              " tensor([0, 0, 1,  ..., 1, 1, 0], dtype=torch.uint8),\n",
              " tensor([0, 0, 1,  ..., 1, 1, 0], dtype=torch.uint8),\n",
              " tensor([0, 0, 1,  ..., 1, 1, 0], dtype=torch.uint8),\n",
              " tensor([0, 0, 1,  ..., 1, 1, 0], dtype=torch.uint8),\n",
              " tensor([0, 0, 1,  ..., 1, 1, 0], dtype=torch.uint8),\n",
              " tensor([0, 0, 1,  ..., 1, 1, 0], dtype=torch.uint8),\n",
              " tensor([0, 0, 1,  ..., 1, 1, 0], dtype=torch.uint8),\n",
              " tensor([0, 0, 1,  ..., 1, 1, 0], dtype=torch.uint8),\n",
              " tensor([0, 0, 1,  ..., 1, 1, 0], dtype=torch.uint8),\n",
              " tensor([0, 0, 1,  ..., 1, 1, 0], dtype=torch.uint8),\n",
              " tensor([0, 0, 1,  ..., 1, 1, 0], dtype=torch.uint8),\n",
              " tensor([0, 0, 1,  ..., 1, 1, 0], dtype=torch.uint8),\n",
              " tensor([0, 0, 1,  ..., 1, 1, 0], dtype=torch.uint8),\n",
              " tensor([0, 0, 1,  ..., 1, 1, 0], dtype=torch.uint8),\n",
              " tensor([0, 0, 1,  ..., 1, 1, 0], dtype=torch.uint8),\n",
              " tensor([0, 0, 1,  ..., 1, 1, 0], dtype=torch.uint8),\n",
              " tensor([0, 0, 1,  ..., 1, 1, 0], dtype=torch.uint8),\n",
              " tensor([0, 0, 1,  ..., 1, 1, 0], dtype=torch.uint8),\n",
              " tensor([0, 0, 1,  ..., 1, 1, 0], dtype=torch.uint8),\n",
              " tensor([0, 0, 1,  ..., 1, 1, 0], dtype=torch.uint8),\n",
              " tensor([0, 0, 1,  ..., 1, 1, 0], dtype=torch.uint8),\n",
              " tensor([0, 0, 1,  ..., 1, 1, 0], dtype=torch.uint8),\n",
              " tensor([0, 0, 1,  ..., 1, 1, 0], dtype=torch.uint8),\n",
              " tensor([0, 0, 1,  ..., 1, 1, 0], dtype=torch.uint8),\n",
              " tensor([0, 0, 1,  ..., 1, 1, 0], dtype=torch.uint8),\n",
              " tensor([0, 0, 1,  ..., 1, 1, 0], dtype=torch.uint8),\n",
              " tensor([0, 0, 1,  ..., 1, 1, 0], dtype=torch.uint8),\n",
              " tensor([0, 0, 1,  ..., 1, 1, 0], dtype=torch.uint8),\n",
              " tensor([0, 0, 1,  ..., 1, 1, 0], dtype=torch.uint8),\n",
              " tensor([0, 0, 1,  ..., 1, 1, 0], dtype=torch.uint8),\n",
              " tensor([0, 0, 1,  ..., 1, 1, 0], dtype=torch.uint8),\n",
              " tensor([0, 0, 1,  ..., 1, 1, 0], dtype=torch.uint8),\n",
              " tensor([0, 0, 1,  ..., 1, 1, 0], dtype=torch.uint8),\n",
              " tensor([0, 0, 1,  ..., 1, 1, 0], dtype=torch.uint8),\n",
              " tensor([0, 0, 1,  ..., 1, 1, 0], dtype=torch.uint8),\n",
              " tensor([0, 0, 1,  ..., 1, 1, 0], dtype=torch.uint8),\n",
              " tensor([0, 0, 1,  ..., 1, 1, 0], dtype=torch.uint8),\n",
              " tensor([0, 0, 1,  ..., 1, 1, 0], dtype=torch.uint8),\n",
              " tensor([0, 0, 1,  ..., 1, 1, 0], dtype=torch.uint8),\n",
              " tensor([0, 0, 1,  ..., 1, 1, 0], dtype=torch.uint8),\n",
              " tensor([0, 0, 1,  ..., 1, 1, 0], dtype=torch.uint8),\n",
              " tensor([0, 0, 1,  ..., 1, 1, 0], dtype=torch.uint8),\n",
              " tensor([0, 0, 1,  ..., 1, 1, 0], dtype=torch.uint8),\n",
              " tensor([0, 0, 1,  ..., 1, 1, 0], dtype=torch.uint8),\n",
              " tensor([0, 0, 1,  ..., 1, 1, 0], dtype=torch.uint8),\n",
              " tensor([0, 0, 1,  ..., 1, 1, 0], dtype=torch.uint8),\n",
              " tensor([0, 0, 1,  ..., 1, 1, 0], dtype=torch.uint8),\n",
              " tensor([0, 0, 1,  ..., 1, 1, 0], dtype=torch.uint8),\n",
              " tensor([0, 0, 1,  ..., 1, 1, 0], dtype=torch.uint8),\n",
              " tensor([0, 0, 1,  ..., 1, 1, 0], dtype=torch.uint8),\n",
              " tensor([0, 0, 1,  ..., 1, 1, 0], dtype=torch.uint8),\n",
              " tensor([0, 0, 1,  ..., 1, 1, 0], dtype=torch.uint8),\n",
              " tensor([0, 0, 1,  ..., 1, 1, 0], dtype=torch.uint8),\n",
              " tensor([0, 0, 1,  ..., 1, 1, 0], dtype=torch.uint8),\n",
              " tensor([0, 0, 1,  ..., 1, 1, 0], dtype=torch.uint8),\n",
              " tensor([0, 0, 1,  ..., 1, 1, 0], dtype=torch.uint8),\n",
              " tensor([0, 0, 1,  ..., 1, 1, 0], dtype=torch.uint8),\n",
              " tensor([0, 0, 1,  ..., 1, 1, 0], dtype=torch.uint8),\n",
              " tensor([0, 0, 1,  ..., 1, 1, 0], dtype=torch.uint8),\n",
              " tensor([0, 0, 1,  ..., 1, 1, 0], dtype=torch.uint8),\n",
              " tensor([0, 0, 1,  ..., 1, 1, 0], dtype=torch.uint8),\n",
              " tensor([0, 0, 1,  ..., 1, 1, 0], dtype=torch.uint8),\n",
              " tensor([0, 0, 1,  ..., 1, 1, 0], dtype=torch.uint8),\n",
              " tensor([0, 0, 1,  ..., 1, 1, 0], dtype=torch.uint8),\n",
              " tensor([0, 0, 1,  ..., 1, 1, 0], dtype=torch.uint8),\n",
              " tensor([0, 0, 1,  ..., 1, 1, 0], dtype=torch.uint8),\n",
              " tensor([0, 0, 1,  ..., 1, 1, 0], dtype=torch.uint8),\n",
              " tensor([0, 0, 1,  ..., 1, 1, 0], dtype=torch.uint8),\n",
              " tensor([0, 0, 1,  ..., 1, 1, 0], dtype=torch.uint8),\n",
              " tensor([0, 0, 1,  ..., 1, 1, 0], dtype=torch.uint8),\n",
              " tensor([0, 0, 1,  ..., 1, 1, 0], dtype=torch.uint8),\n",
              " tensor([0, 0, 1,  ..., 1, 1, 0], dtype=torch.uint8),\n",
              " tensor([0, 0, 1,  ..., 1, 1, 0], dtype=torch.uint8),\n",
              " tensor([0, 0, 1,  ..., 1, 1, 0], dtype=torch.uint8),\n",
              " tensor([0, 0, 1,  ..., 1, 1, 0], dtype=torch.uint8),\n",
              " tensor([0, 0, 1,  ..., 1, 1, 0], dtype=torch.uint8),\n",
              " tensor([0, 0, 1,  ..., 1, 1, 0], dtype=torch.uint8),\n",
              " tensor([0, 0, 1,  ..., 1, 1, 0], dtype=torch.uint8),\n",
              " tensor([0, 0, 1,  ..., 1, 1, 0], dtype=torch.uint8),\n",
              " tensor([0, 0, 1,  ..., 1, 1, 0], dtype=torch.uint8),\n",
              " tensor([0, 0, 1,  ..., 1, 1, 0], dtype=torch.uint8),\n",
              " tensor([0, 0, 1,  ..., 1, 1, 0], dtype=torch.uint8),\n",
              " tensor([0, 0, 1,  ..., 1, 1, 0], dtype=torch.uint8),\n",
              " tensor([0, 0, 1,  ..., 1, 1, 0], dtype=torch.uint8),\n",
              " tensor([0, 0, 1,  ..., 1, 1, 0], dtype=torch.uint8),\n",
              " tensor([0, 0, 1,  ..., 1, 1, 0], dtype=torch.uint8),\n",
              " tensor([0, 0, 1,  ..., 1, 1, 0], dtype=torch.uint8),\n",
              " tensor([0, 0, 1,  ..., 1, 1, 0], dtype=torch.uint8),\n",
              " tensor([0, 0, 1,  ..., 1, 1, 0], dtype=torch.uint8),\n",
              " tensor([0, 0, 1,  ..., 1, 1, 0], dtype=torch.uint8),\n",
              " tensor([0, 0, 1,  ..., 1, 1, 0], dtype=torch.uint8),\n",
              " tensor([0, 0, 1,  ..., 1, 1, 0], dtype=torch.uint8),\n",
              " tensor([0, 0, 1,  ..., 1, 1, 0], dtype=torch.uint8),\n",
              " tensor([0, 0, 1,  ..., 1, 1, 0], dtype=torch.uint8),\n",
              " tensor([0, 0, 1,  ..., 1, 1, 0], dtype=torch.uint8),\n",
              " tensor([0, 0, 1,  ..., 1, 1, 0], dtype=torch.uint8),\n",
              " tensor([0, 0, 1,  ..., 1, 1, 0], dtype=torch.uint8),\n",
              " tensor([0, 0, 1,  ..., 1, 1, 0], dtype=torch.uint8),\n",
              " tensor([0, 0, 1,  ..., 1, 1, 0], dtype=torch.uint8),\n",
              " tensor([0, 0, 1,  ..., 1, 1, 0], dtype=torch.uint8),\n",
              " tensor([0, 0, 1,  ..., 1, 1, 0], dtype=torch.uint8),\n",
              " tensor([0, 0, 1,  ..., 1, 1, 0], dtype=torch.uint8),\n",
              " tensor([0, 0, 1,  ..., 1, 1, 0], dtype=torch.uint8),\n",
              " tensor([0, 0, 1,  ..., 1, 1, 0], dtype=torch.uint8),\n",
              " tensor([0, 0, 1,  ..., 1, 1, 0], dtype=torch.uint8),\n",
              " tensor([0, 0, 1,  ..., 1, 1, 0], dtype=torch.uint8),\n",
              " tensor([0, 0, 1,  ..., 1, 1, 0], dtype=torch.uint8),\n",
              " tensor([0, 0, 1,  ..., 1, 1, 0], dtype=torch.uint8),\n",
              " tensor([0, 0, 1,  ..., 1, 1, 0], dtype=torch.uint8),\n",
              " tensor([0, 0, 1,  ..., 1, 1, 0], dtype=torch.uint8),\n",
              " tensor([0, 0, 1,  ..., 1, 1, 0], dtype=torch.uint8),\n",
              " tensor([0, 0, 1,  ..., 1, 1, 0], dtype=torch.uint8),\n",
              " tensor([0, 0, 1,  ..., 1, 1, 0], dtype=torch.uint8),\n",
              " tensor([0, 0, 1,  ..., 1, 1, 0], dtype=torch.uint8),\n",
              " tensor([0, 0, 1,  ..., 1, 1, 0], dtype=torch.uint8),\n",
              " tensor([0, 0, 1,  ..., 1, 1, 0], dtype=torch.uint8),\n",
              " tensor([0, 0, 1,  ..., 1, 1, 0], dtype=torch.uint8),\n",
              " tensor([0, 0, 1,  ..., 1, 1, 0], dtype=torch.uint8),\n",
              " tensor([0, 0, 1,  ..., 1, 1, 0], dtype=torch.uint8),\n",
              " tensor([0, 0, 1,  ..., 1, 1, 0], dtype=torch.uint8),\n",
              " tensor([0, 0, 1,  ..., 1, 1, 0], dtype=torch.uint8),\n",
              " tensor([0, 0, 1,  ..., 1, 1, 0], dtype=torch.uint8),\n",
              " tensor([0, 0, 1,  ..., 1, 1, 0], dtype=torch.uint8),\n",
              " tensor([0, 0, 1,  ..., 1, 1, 0], dtype=torch.uint8),\n",
              " tensor([0, 0, 1,  ..., 1, 1, 0], dtype=torch.uint8),\n",
              " tensor([0, 0, 1,  ..., 1, 1, 0], dtype=torch.uint8),\n",
              " tensor([0, 0, 1,  ..., 1, 1, 0], dtype=torch.uint8),\n",
              " tensor([0, 0, 1,  ..., 1, 1, 0], dtype=torch.uint8),\n",
              " tensor([0, 0, 1,  ..., 1, 1, 0], dtype=torch.uint8),\n",
              " tensor([0, 0, 1,  ..., 1, 1, 0], dtype=torch.uint8),\n",
              " tensor([0, 0, 1,  ..., 1, 1, 0], dtype=torch.uint8),\n",
              " tensor([0, 0, 1,  ..., 1, 1, 0], dtype=torch.uint8),\n",
              " tensor([0, 0, 1,  ..., 1, 1, 0], dtype=torch.uint8),\n",
              " tensor([0, 0, 1,  ..., 1, 1, 0], dtype=torch.uint8),\n",
              " tensor([0, 0, 1,  ..., 1, 1, 0], dtype=torch.uint8),\n",
              " tensor([0, 0, 1,  ..., 1, 1, 0], dtype=torch.uint8),\n",
              " tensor([0, 0, 1,  ..., 1, 1, 0], dtype=torch.uint8),\n",
              " tensor([0, 0, 1,  ..., 1, 1, 0], dtype=torch.uint8),\n",
              " tensor([0, 0, 1,  ..., 1, 1, 0], dtype=torch.uint8),\n",
              " tensor([0, 0, 1,  ..., 1, 1, 0], dtype=torch.uint8),\n",
              " tensor([0, 0, 1,  ..., 1, 1, 0], dtype=torch.uint8),\n",
              " tensor([0, 0, 1,  ..., 1, 1, 0], dtype=torch.uint8),\n",
              " tensor([0, 0, 1,  ..., 1, 1, 0], dtype=torch.uint8),\n",
              " tensor([0, 0, 1,  ..., 1, 1, 0], dtype=torch.uint8),\n",
              " tensor([0, 0, 1,  ..., 1, 1, 0], dtype=torch.uint8),\n",
              " tensor([0, 0, 1,  ..., 1, 1, 0], dtype=torch.uint8),\n",
              " tensor([0, 0, 1,  ..., 1, 1, 0], dtype=torch.uint8),\n",
              " tensor([0, 0, 1,  ..., 1, 1, 0], dtype=torch.uint8),\n",
              " tensor([0, 0, 1,  ..., 1, 1, 0], dtype=torch.uint8),\n",
              " tensor([0, 0, 1,  ..., 1, 1, 0], dtype=torch.uint8),\n",
              " tensor([0, 0, 1,  ..., 1, 1, 0], dtype=torch.uint8),\n",
              " tensor([0, 0, 1,  ..., 1, 1, 0], dtype=torch.uint8),\n",
              " tensor([0, 0, 1,  ..., 1, 1, 0], dtype=torch.uint8),\n",
              " tensor([0, 0, 1,  ..., 1, 1, 0], dtype=torch.uint8),\n",
              " tensor([0, 0, 1,  ..., 1, 1, 0], dtype=torch.uint8),\n",
              " tensor([0, 0, 1,  ..., 1, 1, 0], dtype=torch.uint8),\n",
              " tensor([0, 0, 1,  ..., 1, 1, 0], dtype=torch.uint8),\n",
              " tensor([0, 0, 1,  ..., 1, 1, 0], dtype=torch.uint8),\n",
              " tensor([0, 0, 1,  ..., 1, 1, 0], dtype=torch.uint8),\n",
              " tensor([0, 0, 1,  ..., 1, 1, 0], dtype=torch.uint8),\n",
              " tensor([0, 0, 1,  ..., 1, 1, 0], dtype=torch.uint8),\n",
              " tensor([0, 0, 1,  ..., 1, 1, 0], dtype=torch.uint8),\n",
              " tensor([0, 0, 1,  ..., 1, 1, 0], dtype=torch.uint8),\n",
              " tensor([0, 0, 1,  ..., 1, 1, 0], dtype=torch.uint8),\n",
              " tensor([0, 0, 1,  ..., 1, 1, 0], dtype=torch.uint8),\n",
              " tensor([0, 0, 1,  ..., 1, 1, 0], dtype=torch.uint8),\n",
              " tensor([0, 0, 1,  ..., 1, 1, 0], dtype=torch.uint8),\n",
              " tensor([0, 0, 1,  ..., 1, 1, 0], dtype=torch.uint8),\n",
              " tensor([0, 0, 1,  ..., 1, 1, 0], dtype=torch.uint8),\n",
              " tensor([0, 0, 1,  ..., 1, 1, 0], dtype=torch.uint8),\n",
              " tensor([0, 0, 1,  ..., 1, 1, 0], dtype=torch.uint8),\n",
              " tensor([0, 0, 1,  ..., 1, 1, 0], dtype=torch.uint8),\n",
              " tensor([0, 0, 1,  ..., 1, 1, 0], dtype=torch.uint8),\n",
              " tensor([0, 0, 1,  ..., 1, 1, 0], dtype=torch.uint8),\n",
              " tensor([0, 0, 1,  ..., 1, 1, 0], dtype=torch.uint8),\n",
              " tensor([0, 0, 1,  ..., 1, 1, 0], dtype=torch.uint8),\n",
              " tensor([0, 0, 1,  ..., 1, 1, 0], dtype=torch.uint8),\n",
              " tensor([0, 0, 1,  ..., 1, 1, 0], dtype=torch.uint8),\n",
              " tensor([0, 0, 1,  ..., 1, 1, 0], dtype=torch.uint8),\n",
              " tensor([0, 0, 1,  ..., 1, 1, 0], dtype=torch.uint8),\n",
              " tensor([0, 0, 1,  ..., 1, 1, 0], dtype=torch.uint8),\n",
              " tensor([0, 0, 1,  ..., 1, 1, 0], dtype=torch.uint8),\n",
              " tensor([0, 0, 1,  ..., 1, 1, 0], dtype=torch.uint8),\n",
              " tensor([0, 0, 1,  ..., 1, 1, 0], dtype=torch.uint8),\n",
              " tensor([0, 0, 1,  ..., 1, 1, 0], dtype=torch.uint8),\n",
              " tensor([0, 0, 1,  ..., 1, 1, 0], dtype=torch.uint8),\n",
              " tensor([0, 0, 1,  ..., 1, 1, 0], dtype=torch.uint8),\n",
              " tensor([0, 0, 1,  ..., 1, 1, 0], dtype=torch.uint8),\n",
              " tensor([0, 0, 1,  ..., 1, 1, 0], dtype=torch.uint8),\n",
              " tensor([0, 0, 1,  ..., 1, 1, 0], dtype=torch.uint8),\n",
              " tensor([0, 0, 1,  ..., 1, 1, 0], dtype=torch.uint8),\n",
              " tensor([0, 0, 1,  ..., 1, 1, 0], dtype=torch.uint8),\n",
              " tensor([0, 0, 1,  ..., 1, 1, 0], dtype=torch.uint8),\n",
              " tensor([0, 0, 1,  ..., 1, 1, 0], dtype=torch.uint8),\n",
              " tensor([0, 0, 1,  ..., 1, 1, 0], dtype=torch.uint8),\n",
              " tensor([0, 0, 1,  ..., 1, 1, 0], dtype=torch.uint8),\n",
              " tensor([0, 0, 1,  ..., 1, 1, 0], dtype=torch.uint8),\n",
              " tensor([0, 0, 1,  ..., 1, 1, 0], dtype=torch.uint8),\n",
              " tensor([0, 0, 1,  ..., 1, 1, 0], dtype=torch.uint8),\n",
              " tensor([0, 0, 1,  ..., 1, 1, 0], dtype=torch.uint8),\n",
              " tensor([0, 0, 1,  ..., 1, 1, 0], dtype=torch.uint8),\n",
              " tensor([0, 0, 1,  ..., 1, 1, 0], dtype=torch.uint8),\n",
              " tensor([0, 0, 1,  ..., 1, 1, 0], dtype=torch.uint8),\n",
              " tensor([0, 0, 1,  ..., 1, 1, 0], dtype=torch.uint8),\n",
              " tensor([0, 0, 1,  ..., 1, 1, 0], dtype=torch.uint8),\n",
              " tensor([0, 0, 1,  ..., 1, 1, 0], dtype=torch.uint8),\n",
              " tensor([0, 0, 1,  ..., 1, 1, 0], dtype=torch.uint8),\n",
              " tensor([0, 0, 1,  ..., 1, 1, 0], dtype=torch.uint8),\n",
              " tensor([0, 0, 1,  ..., 1, 1, 0], dtype=torch.uint8),\n",
              " tensor([0, 0, 1,  ..., 1, 1, 0], dtype=torch.uint8),\n",
              " tensor([0, 0, 1,  ..., 1, 1, 0], dtype=torch.uint8),\n",
              " tensor([0, 0, 1,  ..., 1, 1, 0], dtype=torch.uint8),\n",
              " tensor([0, 0, 1,  ..., 1, 1, 0], dtype=torch.uint8),\n",
              " tensor([0, 0, 1,  ..., 1, 1, 0], dtype=torch.uint8),\n",
              " tensor([0, 0, 1,  ..., 1, 1, 0], dtype=torch.uint8),\n",
              " tensor([0, 0, 1,  ..., 1, 1, 0], dtype=torch.uint8),\n",
              " tensor([0, 0, 1,  ..., 1, 1, 0], dtype=torch.uint8),\n",
              " tensor([0, 0, 1,  ..., 1, 1, 0], dtype=torch.uint8),\n",
              " tensor([0, 0, 1,  ..., 1, 1, 0], dtype=torch.uint8),\n",
              " tensor([0, 0, 1,  ..., 1, 1, 0], dtype=torch.uint8),\n",
              " tensor([0, 0, 1,  ..., 1, 1, 0], dtype=torch.uint8),\n",
              " tensor([0, 0, 1,  ..., 1, 1, 0], dtype=torch.uint8),\n",
              " tensor([0, 0, 1,  ..., 1, 1, 0], dtype=torch.uint8),\n",
              " tensor([0, 0, 1,  ..., 1, 1, 0], dtype=torch.uint8),\n",
              " tensor([0, 0, 1,  ..., 1, 1, 0], dtype=torch.uint8),\n",
              " tensor([0, 0, 1,  ..., 1, 1, 0], dtype=torch.uint8),\n",
              " tensor([0, 0, 1,  ..., 1, 1, 0], dtype=torch.uint8),\n",
              " tensor([0, 0, 1,  ..., 1, 1, 0], dtype=torch.uint8),\n",
              " tensor([0, 0, 1,  ..., 1, 1, 0], dtype=torch.uint8),\n",
              " tensor([0, 0, 1,  ..., 1, 1, 0], dtype=torch.uint8),\n",
              " tensor([0, 0, 1,  ..., 1, 1, 0], dtype=torch.uint8),\n",
              " tensor([0, 0, 1,  ..., 1, 1, 0], dtype=torch.uint8),\n",
              " tensor([0, 0, 1,  ..., 1, 1, 0], dtype=torch.uint8),\n",
              " tensor([0, 0, 1,  ..., 1, 1, 0], dtype=torch.uint8),\n",
              " tensor([0, 0, 1,  ..., 1, 1, 0], dtype=torch.uint8),\n",
              " tensor([0, 0, 1,  ..., 1, 1, 0], dtype=torch.uint8),\n",
              " tensor([0, 0, 1,  ..., 1, 1, 0], dtype=torch.uint8),\n",
              " tensor([0, 0, 1,  ..., 1, 1, 0], dtype=torch.uint8),\n",
              " tensor([0, 0, 1,  ..., 1, 1, 0], dtype=torch.uint8),\n",
              " tensor([0, 0, 1,  ..., 1, 1, 0], dtype=torch.uint8),\n",
              " tensor([0, 0, 1,  ..., 1, 1, 0], dtype=torch.uint8),\n",
              " tensor([0, 0, 1,  ..., 1, 1, 0], dtype=torch.uint8),\n",
              " tensor([0, 0, 1,  ..., 1, 1, 0], dtype=torch.uint8),\n",
              " tensor([0, 0, 1,  ..., 1, 1, 0], dtype=torch.uint8),\n",
              " tensor([0, 0, 1,  ..., 1, 1, 0], dtype=torch.uint8),\n",
              " tensor([0, 0, 1,  ..., 1, 1, 0], dtype=torch.uint8),\n",
              " tensor([0, 0, 1,  ..., 1, 1, 0], dtype=torch.uint8),\n",
              " tensor([0, 0, 1,  ..., 1, 1, 0], dtype=torch.uint8),\n",
              " tensor([0, 0, 1,  ..., 1, 1, 0], dtype=torch.uint8),\n",
              " tensor([0, 0, 1,  ..., 1, 1, 0], dtype=torch.uint8),\n",
              " tensor([0, 0, 1,  ..., 1, 1, 0], dtype=torch.uint8),\n",
              " tensor([0, 0, 1,  ..., 1, 1, 0], dtype=torch.uint8),\n",
              " tensor([0, 0, 1,  ..., 1, 1, 0], dtype=torch.uint8),\n",
              " tensor([0, 0, 1,  ..., 1, 1, 0], dtype=torch.uint8),\n",
              " tensor([0, 0, 1,  ..., 1, 1, 0], dtype=torch.uint8),\n",
              " tensor([0, 0, 1,  ..., 1, 1, 0], dtype=torch.uint8),\n",
              " tensor([0, 0, 1,  ..., 1, 1, 0], dtype=torch.uint8),\n",
              " tensor([0, 0, 1,  ..., 1, 1, 0], dtype=torch.uint8),\n",
              " tensor([0, 0, 1,  ..., 1, 1, 0], dtype=torch.uint8),\n",
              " tensor([0, 0, 1,  ..., 1, 1, 0], dtype=torch.uint8),\n",
              " tensor([0, 0, 1,  ..., 1, 1, 0], dtype=torch.uint8),\n",
              " tensor([0, 0, 1,  ..., 1, 1, 0], dtype=torch.uint8),\n",
              " tensor([0, 0, 1,  ..., 1, 1, 0], dtype=torch.uint8),\n",
              " tensor([0, 0, 1,  ..., 1, 1, 0], dtype=torch.uint8),\n",
              " tensor([0, 0, 1,  ..., 1, 1, 0], dtype=torch.uint8),\n",
              " tensor([0, 0, 1,  ..., 1, 1, 0], dtype=torch.uint8),\n",
              " tensor([0, 0, 1,  ..., 1, 1, 0], dtype=torch.uint8),\n",
              " tensor([0, 0, 1,  ..., 1, 1, 0], dtype=torch.uint8),\n",
              " tensor([0, 0, 1,  ..., 1, 1, 0], dtype=torch.uint8),\n",
              " tensor([0, 0, 1,  ..., 1, 1, 0], dtype=torch.uint8),\n",
              " tensor([0, 0, 1,  ..., 1, 1, 0], dtype=torch.uint8),\n",
              " tensor([0, 0, 1,  ..., 1, 1, 0], dtype=torch.uint8),\n",
              " tensor([0, 0, 1,  ..., 1, 1, 0], dtype=torch.uint8),\n",
              " tensor([0, 0, 1,  ..., 1, 1, 0], dtype=torch.uint8),\n",
              " tensor([0, 0, 1,  ..., 1, 1, 0], dtype=torch.uint8),\n",
              " tensor([0, 0, 1,  ..., 1, 1, 0], dtype=torch.uint8),\n",
              " tensor([0, 0, 1,  ..., 1, 1, 0], dtype=torch.uint8),\n",
              " tensor([0, 0, 1,  ..., 1, 1, 0], dtype=torch.uint8),\n",
              " tensor([0, 0, 1,  ..., 1, 1, 0], dtype=torch.uint8),\n",
              " tensor([0, 0, 1,  ..., 1, 1, 0], dtype=torch.uint8),\n",
              " tensor([0, 0, 1,  ..., 1, 1, 0], dtype=torch.uint8),\n",
              " tensor([0, 0, 1,  ..., 1, 1, 0], dtype=torch.uint8),\n",
              " tensor([0, 0, 1,  ..., 1, 1, 0], dtype=torch.uint8),\n",
              " tensor([0, 0, 1,  ..., 1, 1, 0], dtype=torch.uint8),\n",
              " tensor([0, 0, 1,  ..., 1, 1, 0], dtype=torch.uint8),\n",
              " tensor([0, 0, 1,  ..., 1, 1, 0], dtype=torch.uint8),\n",
              " tensor([0, 0, 1,  ..., 1, 1, 0], dtype=torch.uint8),\n",
              " tensor([0, 0, 1,  ..., 1, 1, 0], dtype=torch.uint8),\n",
              " tensor([0, 0, 1,  ..., 1, 1, 0], dtype=torch.uint8),\n",
              " tensor([0, 0, 1,  ..., 1, 1, 0], dtype=torch.uint8),\n",
              " tensor([0, 0, 1,  ..., 1, 1, 0], dtype=torch.uint8),\n",
              " tensor([0, 0, 1,  ..., 1, 1, 0], dtype=torch.uint8),\n",
              " tensor([0, 0, 1,  ..., 1, 1, 0], dtype=torch.uint8),\n",
              " tensor([0, 0, 1,  ..., 1, 1, 0], dtype=torch.uint8),\n",
              " tensor([0, 0, 1,  ..., 1, 1, 0], dtype=torch.uint8),\n",
              " tensor([0, 0, 1,  ..., 1, 1, 0], dtype=torch.uint8),\n",
              " tensor([0, 0, 1,  ..., 1, 1, 0], dtype=torch.uint8),\n",
              " tensor([0, 0, 1,  ..., 1, 1, 0], dtype=torch.uint8),\n",
              " tensor([0, 0, 1,  ..., 1, 1, 0], dtype=torch.uint8),\n",
              " tensor([0, 0, 1,  ..., 1, 1, 0], dtype=torch.uint8),\n",
              " tensor([0, 0, 1,  ..., 1, 1, 0], dtype=torch.uint8),\n",
              " tensor([0, 0, 1,  ..., 1, 1, 0], dtype=torch.uint8),\n",
              " tensor([0, 0, 1,  ..., 1, 1, 0], dtype=torch.uint8),\n",
              " tensor([0, 0, 1,  ..., 1, 1, 0], dtype=torch.uint8),\n",
              " tensor([0, 0, 1,  ..., 1, 1, 0], dtype=torch.uint8),\n",
              " tensor([0, 0, 1,  ..., 1, 1, 0], dtype=torch.uint8),\n",
              " tensor([0, 0, 1,  ..., 1, 1, 0], dtype=torch.uint8),\n",
              " tensor([0, 0, 1,  ..., 1, 1, 0], dtype=torch.uint8),\n",
              " tensor([0, 0, 1,  ..., 1, 1, 0], dtype=torch.uint8),\n",
              " tensor([0, 0, 1,  ..., 1, 1, 0], dtype=torch.uint8),\n",
              " tensor([0, 0, 1,  ..., 1, 1, 0], dtype=torch.uint8),\n",
              " tensor([0, 0, 1,  ..., 1, 1, 0], dtype=torch.uint8),\n",
              " tensor([0, 0, 1,  ..., 1, 1, 0], dtype=torch.uint8),\n",
              " tensor([0, 0, 1,  ..., 1, 1, 0], dtype=torch.uint8),\n",
              " tensor([0, 0, 1,  ..., 1, 1, 0], dtype=torch.uint8),\n",
              " tensor([0, 0, 1,  ..., 1, 1, 0], dtype=torch.uint8),\n",
              " tensor([0, 0, 1,  ..., 1, 1, 0], dtype=torch.uint8),\n",
              " tensor([0, 0, 1,  ..., 1, 1, 0], dtype=torch.uint8),\n",
              " tensor([0, 0, 1,  ..., 1, 1, 0], dtype=torch.uint8),\n",
              " tensor([0, 0, 1,  ..., 1, 1, 0], dtype=torch.uint8),\n",
              " tensor([0, 0, 1,  ..., 1, 1, 0], dtype=torch.uint8),\n",
              " tensor([0, 0, 1,  ..., 1, 1, 0], dtype=torch.uint8),\n",
              " tensor([0, 0, 1,  ..., 1, 1, 0], dtype=torch.uint8),\n",
              " tensor([0, 0, 1,  ..., 1, 1, 0], dtype=torch.uint8),\n",
              " tensor([0, 0, 1,  ..., 1, 1, 0], dtype=torch.uint8),\n",
              " tensor([0, 0, 1,  ..., 1, 1, 0], dtype=torch.uint8),\n",
              " tensor([0, 0, 1,  ..., 1, 1, 0], dtype=torch.uint8),\n",
              " tensor([0, 0, 1,  ..., 1, 1, 0], dtype=torch.uint8),\n",
              " tensor([0, 0, 1,  ..., 1, 1, 0], dtype=torch.uint8),\n",
              " tensor([0, 0, 1,  ..., 1, 1, 0], dtype=torch.uint8),\n",
              " tensor([0, 0, 1,  ..., 1, 1, 0], dtype=torch.uint8),\n",
              " tensor([0, 0, 1,  ..., 1, 1, 0], dtype=torch.uint8),\n",
              " tensor([0, 0, 1,  ..., 1, 1, 0], dtype=torch.uint8),\n",
              " tensor([0, 0, 1,  ..., 1, 1, 0], dtype=torch.uint8),\n",
              " tensor([0, 0, 1,  ..., 1, 1, 0], dtype=torch.uint8),\n",
              " tensor([0, 0, 1,  ..., 1, 1, 0], dtype=torch.uint8),\n",
              " tensor([0, 0, 1,  ..., 1, 1, 0], dtype=torch.uint8),\n",
              " tensor([0, 0, 1,  ..., 1, 1, 0], dtype=torch.uint8),\n",
              " tensor([0, 0, 1,  ..., 1, 1, 0], dtype=torch.uint8),\n",
              " tensor([0, 0, 1,  ..., 1, 1, 0], dtype=torch.uint8),\n",
              " tensor([0, 0, 1,  ..., 1, 1, 0], dtype=torch.uint8),\n",
              " tensor([0, 0, 1,  ..., 1, 1, 0], dtype=torch.uint8),\n",
              " tensor([0, 0, 1,  ..., 1, 1, 0], dtype=torch.uint8),\n",
              " tensor([0, 0, 1,  ..., 1, 1, 0], dtype=torch.uint8),\n",
              " tensor([0, 0, 1,  ..., 1, 1, 0], dtype=torch.uint8),\n",
              " tensor([0, 0, 1,  ..., 1, 1, 0], dtype=torch.uint8),\n",
              " tensor([0, 0, 1,  ..., 1, 1, 0], dtype=torch.uint8),\n",
              " tensor([0, 0, 1,  ..., 1, 1, 0], dtype=torch.uint8),\n",
              " tensor([0, 0, 1,  ..., 1, 1, 0], dtype=torch.uint8),\n",
              " tensor([0, 0, 1,  ..., 1, 1, 0], dtype=torch.uint8),\n",
              " tensor([0, 0, 1,  ..., 1, 1, 0], dtype=torch.uint8),\n",
              " tensor([0, 0, 1,  ..., 1, 1, 0], dtype=torch.uint8),\n",
              " tensor([0, 0, 1,  ..., 1, 1, 0], dtype=torch.uint8),\n",
              " tensor([0, 0, 1,  ..., 1, 1, 0], dtype=torch.uint8),\n",
              " tensor([0, 0, 1,  ..., 1, 1, 0], dtype=torch.uint8),\n",
              " tensor([0, 0, 1,  ..., 1, 1, 0], dtype=torch.uint8),\n",
              " tensor([0, 0, 1,  ..., 1, 1, 0], dtype=torch.uint8),\n",
              " tensor([0, 0, 1,  ..., 1, 1, 0], dtype=torch.uint8),\n",
              " tensor([0, 0, 1,  ..., 1, 1, 0], dtype=torch.uint8),\n",
              " tensor([0, 0, 1,  ..., 1, 1, 0], dtype=torch.uint8),\n",
              " tensor([0, 0, 1,  ..., 1, 1, 0], dtype=torch.uint8),\n",
              " tensor([0, 0, 1,  ..., 1, 1, 0], dtype=torch.uint8),\n",
              " tensor([0, 0, 1,  ..., 1, 1, 0], dtype=torch.uint8),\n",
              " tensor([0, 0, 1,  ..., 1, 1, 0], dtype=torch.uint8),\n",
              " tensor([0, 0, 1,  ..., 1, 1, 0], dtype=torch.uint8),\n",
              " tensor([0, 0, 1,  ..., 1, 1, 0], dtype=torch.uint8),\n",
              " tensor([0, 0, 1,  ..., 1, 1, 0], dtype=torch.uint8),\n",
              " tensor([0, 0, 1,  ..., 1, 1, 0], dtype=torch.uint8),\n",
              " tensor([0, 0, 1,  ..., 1, 1, 0], dtype=torch.uint8),\n",
              " tensor([0, 0, 1,  ..., 1, 1, 0], dtype=torch.uint8),\n",
              " tensor([0, 0, 1,  ..., 1, 1, 0], dtype=torch.uint8),\n",
              " tensor([0, 0, 1,  ..., 1, 1, 0], dtype=torch.uint8),\n",
              " tensor([0, 0, 1,  ..., 1, 1, 0], dtype=torch.uint8),\n",
              " tensor([0, 0, 1,  ..., 1, 1, 0], dtype=torch.uint8),\n",
              " tensor([0, 0, 1,  ..., 1, 1, 0], dtype=torch.uint8),\n",
              " tensor([0, 0, 1,  ..., 1, 1, 0], dtype=torch.uint8),\n",
              " tensor([0, 0, 1,  ..., 1, 1, 0], dtype=torch.uint8),\n",
              " tensor([0, 0, 1,  ..., 1, 1, 0], dtype=torch.uint8),\n",
              " tensor([0, 0, 1,  ..., 1, 1, 0], dtype=torch.uint8),\n",
              " tensor([0, 0, 1,  ..., 1, 1, 0], dtype=torch.uint8),\n",
              " tensor([0, 0, 1,  ..., 1, 1, 0], dtype=torch.uint8),\n",
              " tensor([0, 0, 1,  ..., 1, 1, 0], dtype=torch.uint8),\n",
              " tensor([0, 0, 1,  ..., 1, 1, 0], dtype=torch.uint8),\n",
              " tensor([0, 0, 1,  ..., 1, 1, 0], dtype=torch.uint8),\n",
              " tensor([0, 0, 1,  ..., 1, 1, 0], dtype=torch.uint8),\n",
              " tensor([0, 0, 1,  ..., 1, 1, 0], dtype=torch.uint8),\n",
              " tensor([0, 0, 1,  ..., 1, 1, 0], dtype=torch.uint8),\n",
              " tensor([0, 0, 1,  ..., 1, 1, 0], dtype=torch.uint8),\n",
              " tensor([0, 0, 1,  ..., 1, 1, 0], dtype=torch.uint8),\n",
              " tensor([0, 0, 1,  ..., 1, 1, 0], dtype=torch.uint8),\n",
              " tensor([0, 0, 1,  ..., 1, 1, 0], dtype=torch.uint8),\n",
              " tensor([0, 0, 1,  ..., 1, 1, 0], dtype=torch.uint8),\n",
              " tensor([0, 0, 1,  ..., 1, 1, 0], dtype=torch.uint8),\n",
              " tensor([0, 0, 1,  ..., 1, 1, 0], dtype=torch.uint8),\n",
              " tensor([0, 0, 1,  ..., 1, 1, 0], dtype=torch.uint8),\n",
              " tensor([0, 0, 1,  ..., 1, 1, 0], dtype=torch.uint8),\n",
              " tensor([0, 0, 1,  ..., 1, 1, 0], dtype=torch.uint8),\n",
              " tensor([0, 0, 1,  ..., 1, 1, 0], dtype=torch.uint8),\n",
              " tensor([0, 0, 1,  ..., 1, 1, 0], dtype=torch.uint8),\n",
              " tensor([0, 0, 1,  ..., 1, 1, 0], dtype=torch.uint8),\n",
              " tensor([0, 0, 1,  ..., 1, 1, 0], dtype=torch.uint8),\n",
              " tensor([0, 0, 1,  ..., 1, 1, 0], dtype=torch.uint8),\n",
              " tensor([0, 0, 1,  ..., 1, 1, 0], dtype=torch.uint8),\n",
              " tensor([0, 0, 1,  ..., 1, 1, 0], dtype=torch.uint8),\n",
              " tensor([0, 0, 1,  ..., 1, 1, 0], dtype=torch.uint8),\n",
              " tensor([0, 0, 1,  ..., 1, 1, 0], dtype=torch.uint8),\n",
              " tensor([0, 0, 1,  ..., 1, 1, 0], dtype=torch.uint8),\n",
              " tensor([0, 0, 1,  ..., 1, 1, 0], dtype=torch.uint8),\n",
              " tensor([0, 0, 1,  ..., 1, 1, 0], dtype=torch.uint8),\n",
              " tensor([0, 0, 1,  ..., 1, 1, 0], dtype=torch.uint8),\n",
              " tensor([0, 0, 1,  ..., 1, 1, 0], dtype=torch.uint8),\n",
              " tensor([0, 0, 1,  ..., 1, 1, 0], dtype=torch.uint8),\n",
              " tensor([0, 0, 1,  ..., 1, 1, 0], dtype=torch.uint8),\n",
              " tensor([0, 0, 1,  ..., 1, 1, 0], dtype=torch.uint8),\n",
              " tensor([0, 0, 1,  ..., 1, 1, 0], dtype=torch.uint8),\n",
              " tensor([0, 0, 1,  ..., 1, 1, 0], dtype=torch.uint8),\n",
              " tensor([0, 0, 1,  ..., 1, 1, 0], dtype=torch.uint8),\n",
              " tensor([0, 0, 1,  ..., 1, 1, 0], dtype=torch.uint8),\n",
              " tensor([0, 0, 1,  ..., 1, 1, 0], dtype=torch.uint8),\n",
              " tensor([0, 0, 1,  ..., 1, 1, 0], dtype=torch.uint8),\n",
              " tensor([0, 0, 1,  ..., 1, 1, 0], dtype=torch.uint8),\n",
              " tensor([0, 0, 1,  ..., 1, 1, 0], dtype=torch.uint8),\n",
              " tensor([0, 0, 1,  ..., 1, 1, 0], dtype=torch.uint8),\n",
              " tensor([0, 0, 1,  ..., 1, 1, 0], dtype=torch.uint8),\n",
              " tensor([0, 0, 1,  ..., 1, 1, 0], dtype=torch.uint8),\n",
              " tensor([0, 0, 1,  ..., 1, 1, 0], dtype=torch.uint8),\n",
              " tensor([0, 0, 1,  ..., 1, 1, 0], dtype=torch.uint8),\n",
              " tensor([0, 0, 1,  ..., 1, 1, 0], dtype=torch.uint8),\n",
              " tensor([0, 0, 1,  ..., 1, 1, 0], dtype=torch.uint8),\n",
              " tensor([0, 0, 1,  ..., 1, 1, 0], dtype=torch.uint8),\n",
              " tensor([0, 0, 1,  ..., 1, 1, 0], dtype=torch.uint8),\n",
              " tensor([0, 0, 1,  ..., 1, 1, 0], dtype=torch.uint8),\n",
              " tensor([0, 0, 1,  ..., 1, 1, 0], dtype=torch.uint8),\n",
              " tensor([0, 0, 1,  ..., 1, 1, 0], dtype=torch.uint8),\n",
              " tensor([0, 0, 1,  ..., 1, 1, 0], dtype=torch.uint8),\n",
              " tensor([0, 0, 1,  ..., 1, 1, 0], dtype=torch.uint8),\n",
              " tensor([0, 0, 1,  ..., 1, 1, 0], dtype=torch.uint8),\n",
              " tensor([0, 0, 1,  ..., 1, 1, 0], dtype=torch.uint8),\n",
              " tensor([0, 0, 1,  ..., 1, 1, 0], dtype=torch.uint8),\n",
              " tensor([0, 0, 1,  ..., 1, 1, 0], dtype=torch.uint8),\n",
              " tensor([0, 0, 1,  ..., 1, 1, 0], dtype=torch.uint8),\n",
              " tensor([0, 0, 1,  ..., 1, 1, 0], dtype=torch.uint8),\n",
              " tensor([0, 0, 1,  ..., 1, 1, 0], dtype=torch.uint8),\n",
              " tensor([0, 0, 1,  ..., 1, 1, 0], dtype=torch.uint8),\n",
              " tensor([0, 0, 1,  ..., 1, 1, 0], dtype=torch.uint8),\n",
              " tensor([0, 0, 1,  ..., 1, 1, 0], dtype=torch.uint8),\n",
              " tensor([0, 0, 1,  ..., 1, 1, 0], dtype=torch.uint8),\n",
              " tensor([0, 0, 1,  ..., 1, 1, 0], dtype=torch.uint8),\n",
              " tensor([0, 0, 1,  ..., 1, 1, 0], dtype=torch.uint8),\n",
              " tensor([0, 0, 1,  ..., 1, 1, 0], dtype=torch.uint8),\n",
              " tensor([0, 0, 1,  ..., 1, 1, 0], dtype=torch.uint8),\n",
              " tensor([0, 0, 1,  ..., 1, 1, 0], dtype=torch.uint8),\n",
              " tensor([0, 0, 1,  ..., 1, 1, 0], dtype=torch.uint8),\n",
              " tensor([0, 0, 1,  ..., 1, 1, 0], dtype=torch.uint8),\n",
              " tensor([0, 0, 1,  ..., 1, 1, 0], dtype=torch.uint8),\n",
              " tensor([0, 0, 1,  ..., 1, 1, 0], dtype=torch.uint8),\n",
              " tensor([0, 0, 1,  ..., 1, 1, 0], dtype=torch.uint8),\n",
              " tensor([0, 0, 1,  ..., 1, 1, 0], dtype=torch.uint8),\n",
              " tensor([0, 0, 1,  ..., 1, 1, 0], dtype=torch.uint8),\n",
              " tensor([0, 0, 1,  ..., 1, 1, 0], dtype=torch.uint8),\n",
              " tensor([0, 0, 1,  ..., 1, 1, 0], dtype=torch.uint8),\n",
              " tensor([0, 0, 1,  ..., 1, 1, 0], dtype=torch.uint8),\n",
              " tensor([0, 0, 1,  ..., 1, 1, 0], dtype=torch.uint8),\n",
              " tensor([0, 0, 1,  ..., 1, 1, 0], dtype=torch.uint8),\n",
              " tensor([0, 0, 1,  ..., 1, 1, 0], dtype=torch.uint8),\n",
              " tensor([0, 0, 1,  ..., 1, 1, 0], dtype=torch.uint8),\n",
              " tensor([0, 0, 1,  ..., 1, 1, 0], dtype=torch.uint8),\n",
              " tensor([0, 0, 1,  ..., 1, 1, 0], dtype=torch.uint8),\n",
              " tensor([0, 0, 1,  ..., 1, 1, 0], dtype=torch.uint8),\n",
              " tensor([0, 0, 1,  ..., 1, 1, 0], dtype=torch.uint8),\n",
              " tensor([0, 0, 1,  ..., 1, 1, 0], dtype=torch.uint8),\n",
              " tensor([0, 0, 1,  ..., 1, 1, 0], dtype=torch.uint8),\n",
              " tensor([0, 0, 1,  ..., 1, 1, 0], dtype=torch.uint8),\n",
              " tensor([0, 0, 1,  ..., 1, 1, 0], dtype=torch.uint8),\n",
              " tensor([0, 0, 1,  ..., 1, 1, 0], dtype=torch.uint8),\n",
              " tensor([0, 0, 1,  ..., 1, 1, 0], dtype=torch.uint8),\n",
              " tensor([0, 0, 1,  ..., 1, 1, 0], dtype=torch.uint8),\n",
              " tensor([0, 0, 1,  ..., 1, 1, 0], dtype=torch.uint8),\n",
              " tensor([0, 0, 1,  ..., 1, 1, 0], dtype=torch.uint8),\n",
              " tensor([0, 0, 1,  ..., 1, 1, 0], dtype=torch.uint8),\n",
              " tensor([0, 0, 1,  ..., 1, 1, 0], dtype=torch.uint8),\n",
              " tensor([0, 0, 1,  ..., 1, 1, 0], dtype=torch.uint8),\n",
              " tensor([0, 0, 1,  ..., 1, 1, 0], dtype=torch.uint8),\n",
              " tensor([0, 0, 1,  ..., 1, 1, 0], dtype=torch.uint8),\n",
              " tensor([0, 0, 1,  ..., 1, 1, 0], dtype=torch.uint8),\n",
              " tensor([0, 0, 1,  ..., 1, 1, 0], dtype=torch.uint8),\n",
              " tensor([0, 0, 1,  ..., 1, 1, 0], dtype=torch.uint8),\n",
              " tensor([0, 0, 1,  ..., 1, 1, 0], dtype=torch.uint8),\n",
              " tensor([0, 0, 1,  ..., 1, 1, 0], dtype=torch.uint8),\n",
              " tensor([0, 0, 1,  ..., 1, 1, 0], dtype=torch.uint8),\n",
              " tensor([0, 0, 1,  ..., 1, 1, 0], dtype=torch.uint8),\n",
              " tensor([0, 0, 1,  ..., 1, 1, 0], dtype=torch.uint8),\n",
              " tensor([0, 0, 1,  ..., 1, 1, 0], dtype=torch.uint8),\n",
              " tensor([0, 0, 1,  ..., 1, 1, 0], dtype=torch.uint8),\n",
              " tensor([0, 0, 1,  ..., 1, 1, 0], dtype=torch.uint8),\n",
              " tensor([0, 0, 1,  ..., 1, 1, 0], dtype=torch.uint8),\n",
              " tensor([0, 0, 1,  ..., 1, 1, 0], dtype=torch.uint8),\n",
              " tensor([0, 0, 1,  ..., 1, 1, 0], dtype=torch.uint8),\n",
              " tensor([0, 0, 1,  ..., 1, 1, 0], dtype=torch.uint8),\n",
              " tensor([0, 0, 1,  ..., 1, 1, 0], dtype=torch.uint8),\n",
              " tensor([0, 0, 1,  ..., 1, 1, 0], dtype=torch.uint8),\n",
              " tensor([0, 0, 1,  ..., 1, 1, 0], dtype=torch.uint8),\n",
              " tensor([0, 0, 1,  ..., 1, 1, 0], dtype=torch.uint8),\n",
              " tensor([0, 0, 1,  ..., 1, 1, 0], dtype=torch.uint8),\n",
              " tensor([0, 0, 1,  ..., 1, 1, 0], dtype=torch.uint8),\n",
              " tensor([0, 0, 1,  ..., 1, 1, 0], dtype=torch.uint8),\n",
              " tensor([0, 0, 1,  ..., 1, 1, 0], dtype=torch.uint8),\n",
              " tensor([0, 0, 1,  ..., 1, 1, 0], dtype=torch.uint8),\n",
              " tensor([0, 0, 1,  ..., 1, 1, 0], dtype=torch.uint8),\n",
              " tensor([0, 0, 1,  ..., 1, 1, 0], dtype=torch.uint8),\n",
              " tensor([0, 0, 1,  ..., 1, 1, 0], dtype=torch.uint8),\n",
              " tensor([0, 0, 1,  ..., 1, 1, 0], dtype=torch.uint8),\n",
              " tensor([0, 0, 1,  ..., 1, 1, 0], dtype=torch.uint8),\n",
              " tensor([0, 0, 1,  ..., 1, 1, 0], dtype=torch.uint8),\n",
              " tensor([0, 0, 1,  ..., 1, 1, 0], dtype=torch.uint8),\n",
              " tensor([0, 0, 1,  ..., 1, 1, 0], dtype=torch.uint8),\n",
              " tensor([0, 0, 1,  ..., 1, 1, 0], dtype=torch.uint8),\n",
              " tensor([0, 0, 1,  ..., 1, 1, 0], dtype=torch.uint8),\n",
              " tensor([0, 0, 1,  ..., 1, 1, 0], dtype=torch.uint8),\n",
              " tensor([0, 0, 1,  ..., 1, 1, 0], dtype=torch.uint8),\n",
              " tensor([0, 0, 1,  ..., 1, 1, 0], dtype=torch.uint8),\n",
              " tensor([0, 0, 1,  ..., 1, 1, 0], dtype=torch.uint8),\n",
              " tensor([0, 0, 1,  ..., 1, 1, 0], dtype=torch.uint8),\n",
              " tensor([0, 0, 1,  ..., 1, 1, 0], dtype=torch.uint8),\n",
              " tensor([0, 0, 1,  ..., 1, 1, 0], dtype=torch.uint8),\n",
              " tensor([0, 0, 1,  ..., 1, 1, 0], dtype=torch.uint8),\n",
              " tensor([0, 0, 1,  ..., 1, 1, 0], dtype=torch.uint8),\n",
              " tensor([0, 0, 1,  ..., 1, 1, 0], dtype=torch.uint8),\n",
              " tensor([0, 0, 1,  ..., 1, 1, 0], dtype=torch.uint8),\n",
              " tensor([0, 0, 1,  ..., 1, 1, 0], dtype=torch.uint8),\n",
              " tensor([0, 0, 1,  ..., 1, 1, 0], dtype=torch.uint8),\n",
              " tensor([0, 0, 1,  ..., 1, 1, 0], dtype=torch.uint8),\n",
              " tensor([0, 0, 1,  ..., 1, 1, 0], dtype=torch.uint8),\n",
              " tensor([0, 0, 1,  ..., 1, 1, 0], dtype=torch.uint8),\n",
              " tensor([0, 0, 1,  ..., 1, 1, 0], dtype=torch.uint8),\n",
              " tensor([0, 0, 1,  ..., 1, 1, 0], dtype=torch.uint8),\n",
              " tensor([0, 0, 1,  ..., 1, 1, 0], dtype=torch.uint8),\n",
              " tensor([0, 0, 1,  ..., 1, 1, 0], dtype=torch.uint8),\n",
              " tensor([0, 0, 1,  ..., 1, 1, 0], dtype=torch.uint8),\n",
              " tensor([0, 0, 1,  ..., 1, 1, 0], dtype=torch.uint8),\n",
              " tensor([0, 0, 1,  ..., 1, 1, 0], dtype=torch.uint8),\n",
              " tensor([0, 0, 1,  ..., 1, 1, 0], dtype=torch.uint8),\n",
              " tensor([0, 0, 1,  ..., 1, 1, 0], dtype=torch.uint8),\n",
              " tensor([0, 0, 1,  ..., 1, 1, 0], dtype=torch.uint8),\n",
              " tensor([0, 0, 1,  ..., 1, 1, 0], dtype=torch.uint8),\n",
              " tensor([0, 0, 1,  ..., 1, 1, 0], dtype=torch.uint8),\n",
              " tensor([0, 0, 1,  ..., 1, 1, 0], dtype=torch.uint8),\n",
              " tensor([0, 0, 1,  ..., 1, 1, 0], dtype=torch.uint8),\n",
              " tensor([0, 0, 1,  ..., 1, 1, 0], dtype=torch.uint8),\n",
              " tensor([0, 0, 1,  ..., 1, 1, 0], dtype=torch.uint8),\n",
              " tensor([0, 0, 1,  ..., 1, 1, 0], dtype=torch.uint8),\n",
              " tensor([0, 0, 1,  ..., 1, 1, 0], dtype=torch.uint8),\n",
              " tensor([0, 0, 1,  ..., 1, 1, 0], dtype=torch.uint8),\n",
              " tensor([0, 0, 1,  ..., 1, 1, 0], dtype=torch.uint8),\n",
              " tensor([0, 0, 1,  ..., 1, 1, 0], dtype=torch.uint8),\n",
              " tensor([0, 0, 1,  ..., 1, 1, 0], dtype=torch.uint8),\n",
              " tensor([0, 0, 1,  ..., 1, 1, 0], dtype=torch.uint8),\n",
              " tensor([0, 0, 1,  ..., 1, 1, 0], dtype=torch.uint8),\n",
              " tensor([0, 0, 1,  ..., 1, 1, 0], dtype=torch.uint8),\n",
              " tensor([0, 0, 1,  ..., 1, 1, 0], dtype=torch.uint8),\n",
              " tensor([0, 0, 1,  ..., 1, 1, 0], dtype=torch.uint8),\n",
              " tensor([0, 0, 1,  ..., 1, 1, 0], dtype=torch.uint8),\n",
              " tensor([0, 0, 1,  ..., 1, 1, 0], dtype=torch.uint8),\n",
              " tensor([0, 0, 1,  ..., 1, 1, 0], dtype=torch.uint8),\n",
              " tensor([0, 0, 1,  ..., 1, 1, 0], dtype=torch.uint8),\n",
              " tensor([0, 0, 1,  ..., 1, 1, 0], dtype=torch.uint8),\n",
              " tensor([0, 0, 1,  ..., 1, 1, 0], dtype=torch.uint8),\n",
              " tensor([0, 0, 1,  ..., 1, 1, 0], dtype=torch.uint8),\n",
              " tensor([0, 0, 1,  ..., 1, 1, 0], dtype=torch.uint8),\n",
              " tensor([0, 0, 1,  ..., 1, 1, 0], dtype=torch.uint8),\n",
              " tensor([0, 0, 1,  ..., 1, 1, 0], dtype=torch.uint8),\n",
              " tensor([0, 0, 1,  ..., 1, 1, 0], dtype=torch.uint8),\n",
              " tensor([0, 0, 1,  ..., 1, 1, 0], dtype=torch.uint8),\n",
              " tensor([0, 0, 1,  ..., 1, 1, 0], dtype=torch.uint8),\n",
              " tensor([0, 0, 1,  ..., 1, 1, 0], dtype=torch.uint8),\n",
              " tensor([0, 0, 1,  ..., 1, 1, 0], dtype=torch.uint8),\n",
              " tensor([0, 0, 1,  ..., 1, 1, 0], dtype=torch.uint8),\n",
              " tensor([0, 0, 1,  ..., 1, 1, 0], dtype=torch.uint8),\n",
              " tensor([0, 0, 1,  ..., 1, 1, 0], dtype=torch.uint8),\n",
              " tensor([0, 0, 1,  ..., 1, 1, 0], dtype=torch.uint8),\n",
              " tensor([0, 0, 1,  ..., 1, 1, 0], dtype=torch.uint8),\n",
              " tensor([0, 0, 1,  ..., 1, 1, 0], dtype=torch.uint8),\n",
              " tensor([0, 0, 1,  ..., 1, 1, 0], dtype=torch.uint8),\n",
              " tensor([0, 0, 1,  ..., 1, 1, 0], dtype=torch.uint8),\n",
              " tensor([0, 0, 1,  ..., 1, 1, 0], dtype=torch.uint8),\n",
              " tensor([0, 0, 1,  ..., 1, 1, 0], dtype=torch.uint8),\n",
              " tensor([0, 0, 1,  ..., 1, 1, 0], dtype=torch.uint8),\n",
              " tensor([0, 0, 1,  ..., 1, 1, 0], dtype=torch.uint8),\n",
              " tensor([0, 0, 1,  ..., 1, 1, 0], dtype=torch.uint8),\n",
              " tensor([0, 0, 1,  ..., 1, 1, 0], dtype=torch.uint8),\n",
              " tensor([0, 0, 1,  ..., 1, 1, 0], dtype=torch.uint8),\n",
              " tensor([0, 0, 1,  ..., 1, 1, 0], dtype=torch.uint8),\n",
              " tensor([0, 0, 1,  ..., 1, 1, 0], dtype=torch.uint8),\n",
              " tensor([0, 0, 1,  ..., 1, 1, 0], dtype=torch.uint8),\n",
              " tensor([0, 0, 1,  ..., 1, 1, 0], dtype=torch.uint8),\n",
              " tensor([0, 0, 1,  ..., 1, 1, 0], dtype=torch.uint8),\n",
              " tensor([0, 0, 1,  ..., 1, 1, 0], dtype=torch.uint8),\n",
              " tensor([0, 0, 1,  ..., 1, 1, 0], dtype=torch.uint8),\n",
              " tensor([0, 0, 1,  ..., 1, 1, 0], dtype=torch.uint8),\n",
              " tensor([0, 0, 1,  ..., 1, 1, 0], dtype=torch.uint8),\n",
              " tensor([0, 0, 1,  ..., 1, 1, 0], dtype=torch.uint8),\n",
              " tensor([0, 0, 1,  ..., 1, 1, 0], dtype=torch.uint8),\n",
              " tensor([0, 0, 1,  ..., 1, 1, 0], dtype=torch.uint8),\n",
              " tensor([0, 0, 1,  ..., 1, 1, 0], dtype=torch.uint8),\n",
              " tensor([0, 0, 1,  ..., 1, 1, 0], dtype=torch.uint8),\n",
              " tensor([0, 0, 1,  ..., 1, 1, 0], dtype=torch.uint8),\n",
              " tensor([0, 0, 1,  ..., 1, 1, 0], dtype=torch.uint8),\n",
              " tensor([0, 0, 1,  ..., 1, 1, 0], dtype=torch.uint8),\n",
              " tensor([0, 0, 1,  ..., 1, 1, 0], dtype=torch.uint8),\n",
              " tensor([0, 0, 1,  ..., 1, 1, 0], dtype=torch.uint8),\n",
              " tensor([0, 0, 1,  ..., 1, 1, 0], dtype=torch.uint8),\n",
              " tensor([0, 0, 1,  ..., 1, 1, 0], dtype=torch.uint8),\n",
              " tensor([0, 0, 1,  ..., 1, 1, 0], dtype=torch.uint8),\n",
              " tensor([0, 0, 1,  ..., 1, 1, 0], dtype=torch.uint8),\n",
              " tensor([0, 0, 1,  ..., 1, 1, 0], dtype=torch.uint8),\n",
              " tensor([0, 0, 1,  ..., 1, 1, 0], dtype=torch.uint8),\n",
              " tensor([0, 0, 1,  ..., 1, 1, 0], dtype=torch.uint8),\n",
              " tensor([0, 0, 1,  ..., 1, 1, 0], dtype=torch.uint8),\n",
              " tensor([0, 0, 1,  ..., 1, 1, 0], dtype=torch.uint8),\n",
              " tensor([0, 0, 1,  ..., 1, 1, 0], dtype=torch.uint8),\n",
              " tensor([0, 0, 1,  ..., 1, 1, 0], dtype=torch.uint8),\n",
              " tensor([0, 0, 1,  ..., 1, 1, 0], dtype=torch.uint8),\n",
              " tensor([0, 0, 1,  ..., 1, 1, 0], dtype=torch.uint8),\n",
              " tensor([0, 0, 1,  ..., 1, 1, 0], dtype=torch.uint8),\n",
              " tensor([0, 0, 1,  ..., 1, 1, 0], dtype=torch.uint8),\n",
              " tensor([0, 0, 1,  ..., 1, 1, 0], dtype=torch.uint8),\n",
              " tensor([0, 0, 1,  ..., 1, 1, 0], dtype=torch.uint8),\n",
              " tensor([0, 0, 1,  ..., 1, 1, 0], dtype=torch.uint8),\n",
              " tensor([0, 0, 1,  ..., 1, 1, 0], dtype=torch.uint8),\n",
              " tensor([0, 0, 1,  ..., 1, 1, 0], dtype=torch.uint8),\n",
              " tensor([0, 0, 1,  ..., 1, 1, 0], dtype=torch.uint8),\n",
              " tensor([0, 0, 1,  ..., 1, 1, 0], dtype=torch.uint8),\n",
              " tensor([0, 0, 1,  ..., 1, 1, 0], dtype=torch.uint8),\n",
              " tensor([0, 0, 1,  ..., 1, 1, 0], dtype=torch.uint8),\n",
              " tensor([0, 0, 1,  ..., 1, 1, 0], dtype=torch.uint8),\n",
              " tensor([0, 0, 1,  ..., 1, 1, 0], dtype=torch.uint8),\n",
              " tensor([0, 0, 1,  ..., 1, 1, 0], dtype=torch.uint8),\n",
              " tensor([0, 0, 1,  ..., 1, 1, 0], dtype=torch.uint8),\n",
              " tensor([0, 0, 1,  ..., 1, 1, 0], dtype=torch.uint8),\n",
              " tensor([0, 0, 1,  ..., 1, 1, 0], dtype=torch.uint8),\n",
              " tensor([0, 0, 1,  ..., 1, 1, 0], dtype=torch.uint8),\n",
              " tensor([0, 0, 1,  ..., 1, 1, 0], dtype=torch.uint8),\n",
              " tensor([0, 0, 1,  ..., 1, 1, 0], dtype=torch.uint8),\n",
              " tensor([0, 0, 1,  ..., 1, 1, 0], dtype=torch.uint8),\n",
              " tensor([0, 0, 1,  ..., 1, 1, 0], dtype=torch.uint8),\n",
              " tensor([0, 0, 1,  ..., 1, 1, 0], dtype=torch.uint8),\n",
              " tensor([0, 0, 1,  ..., 1, 1, 0], dtype=torch.uint8),\n",
              " tensor([0, 0, 1,  ..., 1, 1, 0], dtype=torch.uint8),\n",
              " tensor([0, 0, 1,  ..., 1, 1, 0], dtype=torch.uint8),\n",
              " tensor([0, 0, 1,  ..., 1, 1, 0], dtype=torch.uint8),\n",
              " tensor([0, 0, 1,  ..., 1, 1, 0], dtype=torch.uint8),\n",
              " tensor([0, 0, 1,  ..., 1, 1, 0], dtype=torch.uint8),\n",
              " tensor([0, 0, 1,  ..., 1, 1, 0], dtype=torch.uint8),\n",
              " tensor([0, 0, 1,  ..., 1, 1, 0], dtype=torch.uint8),\n",
              " tensor([0, 0, 1,  ..., 1, 1, 0], dtype=torch.uint8),\n",
              " tensor([0, 0, 1,  ..., 1, 1, 0], dtype=torch.uint8),\n",
              " tensor([0, 0, 1,  ..., 1, 1, 0], dtype=torch.uint8),\n",
              " tensor([0, 0, 1,  ..., 1, 1, 0], dtype=torch.uint8),\n",
              " tensor([0, 0, 1,  ..., 1, 1, 0], dtype=torch.uint8),\n",
              " tensor([0, 0, 1,  ..., 1, 1, 0], dtype=torch.uint8),\n",
              " tensor([0, 0, 1,  ..., 1, 1, 0], dtype=torch.uint8),\n",
              " tensor([0, 0, 1,  ..., 1, 1, 0], dtype=torch.uint8),\n",
              " tensor([0, 0, 1,  ..., 1, 1, 0], dtype=torch.uint8),\n",
              " tensor([0, 0, 1,  ..., 1, 1, 0], dtype=torch.uint8),\n",
              " tensor([0, 0, 1,  ..., 1, 1, 0], dtype=torch.uint8),\n",
              " tensor([0, 0, 1,  ..., 1, 1, 0], dtype=torch.uint8),\n",
              " tensor([0, 0, 1,  ..., 1, 1, 0], dtype=torch.uint8),\n",
              " tensor([0, 0, 1,  ..., 1, 1, 0], dtype=torch.uint8),\n",
              " tensor([0, 0, 1,  ..., 1, 1, 0], dtype=torch.uint8),\n",
              " tensor([0, 0, 1,  ..., 1, 1, 0], dtype=torch.uint8),\n",
              " tensor([0, 0, 1,  ..., 1, 1, 0], dtype=torch.uint8),\n",
              " tensor([0, 0, 1,  ..., 1, 1, 0], dtype=torch.uint8),\n",
              " tensor([0, 0, 1,  ..., 1, 1, 0], dtype=torch.uint8),\n",
              " tensor([0, 0, 1,  ..., 1, 1, 0], dtype=torch.uint8),\n",
              " tensor([0, 0, 1,  ..., 1, 1, 0], dtype=torch.uint8),\n",
              " tensor([0, 0, 1,  ..., 1, 1, 0], dtype=torch.uint8),\n",
              " tensor([0, 0, 1,  ..., 1, 1, 0], dtype=torch.uint8),\n",
              " tensor([0, 0, 1,  ..., 1, 1, 0], dtype=torch.uint8),\n",
              " tensor([0, 0, 1,  ..., 1, 1, 0], dtype=torch.uint8),\n",
              " tensor([0, 0, 1,  ..., 1, 1, 0], dtype=torch.uint8),\n",
              " tensor([0, 0, 1,  ..., 1, 1, 0], dtype=torch.uint8),\n",
              " tensor([0, 0, 1,  ..., 1, 1, 0], dtype=torch.uint8),\n",
              " tensor([0, 0, 1,  ..., 1, 1, 0], dtype=torch.uint8),\n",
              " tensor([0, 0, 1,  ..., 1, 1, 0], dtype=torch.uint8),\n",
              " tensor([0, 0, 1,  ..., 1, 1, 0], dtype=torch.uint8),\n",
              " tensor([0, 0, 1,  ..., 1, 1, 0], dtype=torch.uint8),\n",
              " tensor([0, 0, 1,  ..., 1, 1, 0], dtype=torch.uint8),\n",
              " tensor([0, 0, 1,  ..., 1, 1, 0], dtype=torch.uint8),\n",
              " tensor([0, 0, 1,  ..., 1, 1, 0], dtype=torch.uint8),\n",
              " tensor([0, 0, 1,  ..., 1, 1, 0], dtype=torch.uint8),\n",
              " tensor([0, 0, 1,  ..., 1, 1, 0], dtype=torch.uint8),\n",
              " tensor([0, 0, 1,  ..., 1, 1, 0], dtype=torch.uint8),\n",
              " tensor([0, 0, 1,  ..., 1, 1, 0], dtype=torch.uint8),\n",
              " tensor([0, 0, 1,  ..., 1, 1, 0], dtype=torch.uint8),\n",
              " tensor([0, 0, 1,  ..., 1, 1, 0], dtype=torch.uint8),\n",
              " tensor([0, 0, 1,  ..., 1, 1, 0], dtype=torch.uint8),\n",
              " tensor([0, 0, 1,  ..., 1, 1, 0], dtype=torch.uint8),\n",
              " tensor([0, 0, 1,  ..., 1, 1, 0], dtype=torch.uint8),\n",
              " tensor([0, 0, 1,  ..., 1, 1, 0], dtype=torch.uint8),\n",
              " tensor([0, 0, 1,  ..., 1, 1, 0], dtype=torch.uint8),\n",
              " tensor([0, 0, 1,  ..., 1, 1, 0], dtype=torch.uint8),\n",
              " tensor([0, 0, 1,  ..., 1, 1, 0], dtype=torch.uint8),\n",
              " tensor([0, 0, 1,  ..., 1, 1, 0], dtype=torch.uint8),\n",
              " tensor([0, 0, 1,  ..., 1, 1, 0], dtype=torch.uint8),\n",
              " tensor([0, 0, 1,  ..., 1, 1, 0], dtype=torch.uint8),\n",
              " tensor([0, 0, 1,  ..., 1, 1, 0], dtype=torch.uint8),\n",
              " tensor([0, 0, 1,  ..., 1, 1, 0], dtype=torch.uint8),\n",
              " tensor([0, 0, 1,  ..., 1, 1, 0], dtype=torch.uint8),\n",
              " tensor([0, 0, 1,  ..., 1, 1, 0], dtype=torch.uint8),\n",
              " tensor([0, 0, 1,  ..., 1, 1, 0], dtype=torch.uint8),\n",
              " tensor([0, 0, 1,  ..., 1, 1, 0], dtype=torch.uint8),\n",
              " tensor([0, 0, 1,  ..., 1, 1, 0], dtype=torch.uint8),\n",
              " tensor([0, 0, 1,  ..., 1, 1, 0], dtype=torch.uint8),\n",
              " tensor([0, 0, 1,  ..., 1, 1, 0], dtype=torch.uint8),\n",
              " tensor([0, 0, 1,  ..., 1, 1, 0], dtype=torch.uint8),\n",
              " tensor([0, 0, 1,  ..., 1, 1, 0], dtype=torch.uint8),\n",
              " tensor([0, 0, 1,  ..., 1, 1, 0], dtype=torch.uint8),\n",
              " tensor([0, 0, 1,  ..., 1, 1, 0], dtype=torch.uint8),\n",
              " tensor([0, 0, 1,  ..., 1, 1, 0], dtype=torch.uint8),\n",
              " tensor([0, 0, 1,  ..., 1, 1, 0], dtype=torch.uint8),\n",
              " tensor([0, 0, 1,  ..., 1, 1, 0], dtype=torch.uint8),\n",
              " tensor([0, 0, 1,  ..., 1, 1, 0], dtype=torch.uint8),\n",
              " tensor([0, 0, 1,  ..., 1, 1, 0], dtype=torch.uint8),\n",
              " tensor([0, 0, 1,  ..., 1, 1, 0], dtype=torch.uint8),\n",
              " tensor([0, 0, 1,  ..., 1, 1, 0], dtype=torch.uint8),\n",
              " tensor([0, 0, 1,  ..., 1, 1, 0], dtype=torch.uint8),\n",
              " tensor([0, 0, 1,  ..., 1, 1, 0], dtype=torch.uint8),\n",
              " tensor([0, 0, 1,  ..., 1, 1, 0], dtype=torch.uint8),\n",
              " tensor([0, 0, 1,  ..., 1, 1, 0], dtype=torch.uint8),\n",
              " tensor([0, 0, 1,  ..., 1, 1, 0], dtype=torch.uint8),\n",
              " tensor([0, 0, 1,  ..., 1, 1, 0], dtype=torch.uint8),\n",
              " tensor([0, 0, 1,  ..., 1, 1, 0], dtype=torch.uint8),\n",
              " tensor([0, 0, 1,  ..., 1, 1, 0], dtype=torch.uint8),\n",
              " tensor([0, 0, 1,  ..., 1, 1, 0], dtype=torch.uint8),\n",
              " tensor([0, 0, 1,  ..., 1, 1, 0], dtype=torch.uint8),\n",
              " tensor([0, 0, 1,  ..., 1, 1, 0], dtype=torch.uint8),\n",
              " tensor([0, 0, 1,  ..., 1, 1, 0], dtype=torch.uint8),\n",
              " tensor([0, 0, 1,  ..., 1, 1, 0], dtype=torch.uint8),\n",
              " tensor([0, 0, 1,  ..., 1, 1, 0], dtype=torch.uint8),\n",
              " tensor([0, 0, 1,  ..., 1, 1, 0], dtype=torch.uint8),\n",
              " tensor([0, 0, 1,  ..., 1, 1, 0], dtype=torch.uint8),\n",
              " tensor([0, 0, 1,  ..., 1, 1, 0], dtype=torch.uint8),\n",
              " tensor([0, 0, 1,  ..., 1, 1, 0], dtype=torch.uint8),\n",
              " tensor([0, 0, 1,  ..., 1, 1, 0], dtype=torch.uint8),\n",
              " tensor([0, 0, 1,  ..., 1, 1, 0], dtype=torch.uint8),\n",
              " tensor([0, 0, 1,  ..., 1, 1, 0], dtype=torch.uint8),\n",
              " tensor([0, 0, 1,  ..., 1, 1, 0], dtype=torch.uint8),\n",
              " tensor([0, 0, 1,  ..., 1, 1, 0], dtype=torch.uint8),\n",
              " tensor([0, 0, 1,  ..., 1, 1, 0], dtype=torch.uint8),\n",
              " tensor([0, 0, 1,  ..., 1, 1, 0], dtype=torch.uint8),\n",
              " tensor([0, 0, 1,  ..., 1, 1, 0], dtype=torch.uint8),\n",
              " tensor([0, 0, 1,  ..., 1, 1, 0], dtype=torch.uint8),\n",
              " tensor([0, 0, 1,  ..., 1, 1, 0], dtype=torch.uint8),\n",
              " tensor([0, 0, 1,  ..., 1, 1, 0], dtype=torch.uint8),\n",
              " tensor([0, 0, 1,  ..., 1, 1, 0], dtype=torch.uint8),\n",
              " tensor([0, 0, 1,  ..., 1, 1, 0], dtype=torch.uint8),\n",
              " tensor([0, 0, 1,  ..., 1, 1, 0], dtype=torch.uint8),\n",
              " tensor([0, 0, 1,  ..., 1, 1, 0], dtype=torch.uint8),\n",
              " tensor([0, 0, 1,  ..., 1, 1, 0], dtype=torch.uint8),\n",
              " tensor([0, 0, 1,  ..., 1, 1, 0], dtype=torch.uint8),\n",
              " tensor([0, 0, 1,  ..., 1, 1, 0], dtype=torch.uint8),\n",
              " tensor([0, 0, 1,  ..., 1, 1, 0], dtype=torch.uint8),\n",
              " tensor([0, 0, 1,  ..., 1, 1, 0], dtype=torch.uint8),\n",
              " tensor([0, 0, 1,  ..., 1, 1, 0], dtype=torch.uint8),\n",
              " tensor([0, 0, 1,  ..., 1, 1, 0], dtype=torch.uint8),\n",
              " tensor([0, 0, 1,  ..., 1, 1, 0], dtype=torch.uint8),\n",
              " tensor([0, 0, 1,  ..., 1, 1, 0], dtype=torch.uint8),\n",
              " tensor([0, 0, 1,  ..., 1, 1, 0], dtype=torch.uint8),\n",
              " tensor([0, 0, 1,  ..., 1, 1, 0], dtype=torch.uint8),\n",
              " tensor([0, 0, 1,  ..., 1, 1, 0], dtype=torch.uint8),\n",
              " tensor([0, 0, 1,  ..., 1, 1, 0], dtype=torch.uint8),\n",
              " tensor([0, 0, 1,  ..., 1, 1, 0], dtype=torch.uint8),\n",
              " tensor([0, 0, 1,  ..., 1, 1, 0], dtype=torch.uint8),\n",
              " tensor([0, 0, 1,  ..., 1, 1, 0], dtype=torch.uint8),\n",
              " tensor([0, 0, 1,  ..., 1, 1, 0], dtype=torch.uint8),\n",
              " tensor([0, 0, 1,  ..., 1, 1, 0], dtype=torch.uint8),\n",
              " tensor([0, 0, 1,  ..., 1, 1, 0], dtype=torch.uint8),\n",
              " tensor([0, 0, 1,  ..., 1, 1, 0], dtype=torch.uint8),\n",
              " ...]"
            ]
          },
          "metadata": {
            "tags": []
          },
          "execution_count": 58
        }
      ]
    },
    {
      "cell_type": "code",
      "metadata": {
        "id": "XF7GwymhIBIM",
        "colab_type": "code",
        "colab": {}
      },
      "source": [
        "def create_db_and_parallels(num_entries):\n",
        "  \n",
        "  db = torch.rand(num_entries) > 0.5\n",
        "  pdbs = get_parallel_dbs(db)\n",
        "  \n",
        "  return db, pdbs"
      ],
      "execution_count": 0,
      "outputs": []
    },
    {
      "cell_type": "code",
      "metadata": {
        "id": "XjdxxFPOIpdt",
        "colab_type": "code",
        "outputId": "2c19b69b-e2cb-4402-e321-e2ca553108b6",
        "colab": {
          "base_uri": "https://localhost:8080/",
          "height": 731
        }
      },
      "source": [
        "create_db_and_parallels(20)\n"
      ],
      "execution_count": 60,
      "outputs": [
        {
          "output_type": "execute_result",
          "data": {
            "text/plain": [
              "(tensor([1, 1, 0, 0, 0, 1, 0, 0, 1, 0, 1, 1, 1, 0, 1, 1, 1, 1, 1, 1],\n",
              "        dtype=torch.uint8),\n",
              " [tensor([1, 0, 0, 0, 1, 0, 0, 1, 0, 1, 1, 1, 0, 1, 1, 1, 1, 1, 1],\n",
              "         dtype=torch.uint8),\n",
              "  tensor([1, 0, 0, 0, 1, 0, 0, 1, 0, 1, 1, 1, 0, 1, 1, 1, 1, 1, 1],\n",
              "         dtype=torch.uint8),\n",
              "  tensor([1, 1, 0, 0, 1, 0, 0, 1, 0, 1, 1, 1, 0, 1, 1, 1, 1, 1, 1],\n",
              "         dtype=torch.uint8),\n",
              "  tensor([1, 1, 0, 0, 1, 0, 0, 1, 0, 1, 1, 1, 0, 1, 1, 1, 1, 1, 1],\n",
              "         dtype=torch.uint8),\n",
              "  tensor([1, 1, 0, 0, 1, 0, 0, 1, 0, 1, 1, 1, 0, 1, 1, 1, 1, 1, 1],\n",
              "         dtype=torch.uint8),\n",
              "  tensor([1, 1, 0, 0, 0, 0, 0, 1, 0, 1, 1, 1, 0, 1, 1, 1, 1, 1, 1],\n",
              "         dtype=torch.uint8),\n",
              "  tensor([1, 1, 0, 0, 0, 1, 0, 1, 0, 1, 1, 1, 0, 1, 1, 1, 1, 1, 1],\n",
              "         dtype=torch.uint8),\n",
              "  tensor([1, 1, 0, 0, 0, 1, 0, 1, 0, 1, 1, 1, 0, 1, 1, 1, 1, 1, 1],\n",
              "         dtype=torch.uint8),\n",
              "  tensor([1, 1, 0, 0, 0, 1, 0, 0, 0, 1, 1, 1, 0, 1, 1, 1, 1, 1, 1],\n",
              "         dtype=torch.uint8),\n",
              "  tensor([1, 1, 0, 0, 0, 1, 0, 0, 1, 1, 1, 1, 0, 1, 1, 1, 1, 1, 1],\n",
              "         dtype=torch.uint8),\n",
              "  tensor([1, 1, 0, 0, 0, 1, 0, 0, 1, 0, 1, 1, 0, 1, 1, 1, 1, 1, 1],\n",
              "         dtype=torch.uint8),\n",
              "  tensor([1, 1, 0, 0, 0, 1, 0, 0, 1, 0, 1, 1, 0, 1, 1, 1, 1, 1, 1],\n",
              "         dtype=torch.uint8),\n",
              "  tensor([1, 1, 0, 0, 0, 1, 0, 0, 1, 0, 1, 1, 0, 1, 1, 1, 1, 1, 1],\n",
              "         dtype=torch.uint8),\n",
              "  tensor([1, 1, 0, 0, 0, 1, 0, 0, 1, 0, 1, 1, 1, 1, 1, 1, 1, 1, 1],\n",
              "         dtype=torch.uint8),\n",
              "  tensor([1, 1, 0, 0, 0, 1, 0, 0, 1, 0, 1, 1, 1, 0, 1, 1, 1, 1, 1],\n",
              "         dtype=torch.uint8),\n",
              "  tensor([1, 1, 0, 0, 0, 1, 0, 0, 1, 0, 1, 1, 1, 0, 1, 1, 1, 1, 1],\n",
              "         dtype=torch.uint8),\n",
              "  tensor([1, 1, 0, 0, 0, 1, 0, 0, 1, 0, 1, 1, 1, 0, 1, 1, 1, 1, 1],\n",
              "         dtype=torch.uint8),\n",
              "  tensor([1, 1, 0, 0, 0, 1, 0, 0, 1, 0, 1, 1, 1, 0, 1, 1, 1, 1, 1],\n",
              "         dtype=torch.uint8),\n",
              "  tensor([1, 1, 0, 0, 0, 1, 0, 0, 1, 0, 1, 1, 1, 0, 1, 1, 1, 1, 1],\n",
              "         dtype=torch.uint8),\n",
              "  tensor([1, 1, 0, 0, 0, 1, 0, 0, 1, 0, 1, 1, 1, 0, 1, 1, 1, 1, 1],\n",
              "         dtype=torch.uint8)])"
            ]
          },
          "metadata": {
            "tags": []
          },
          "execution_count": 60
        }
      ]
    },
    {
      "cell_type": "code",
      "metadata": {
        "id": "S10a3OdeIuW2",
        "colab_type": "code",
        "colab": {}
      },
      "source": [
        "\n",
        "\n"
      ],
      "execution_count": 0,
      "outputs": []
    },
    {
      "cell_type": "code",
      "metadata": {
        "id": "_0vAuqhDuo2J",
        "colab_type": "code",
        "outputId": "0dd58676-c668-4ce8-da05-a2eb3a0c996a",
        "colab": {
          "base_uri": "https://localhost:8080/",
          "height": 34
        }
      },
      "source": [
        "db,pdbs = create_db_and_parallels(5000)\n",
        "db"
      ],
      "execution_count": 61,
      "outputs": [
        {
          "output_type": "execute_result",
          "data": {
            "text/plain": [
              "tensor([1, 0, 1,  ..., 1, 0, 1], dtype=torch.uint8)"
            ]
          },
          "metadata": {
            "tags": []
          },
          "execution_count": 61
        }
      ]
    },
    {
      "cell_type": "code",
      "metadata": {
        "id": "-7a0P5oYu_ag",
        "colab_type": "code",
        "colab": {}
      },
      "source": [
        "def query(db):\n",
        "  return db.sum()"
      ],
      "execution_count": 0,
      "outputs": []
    },
    {
      "cell_type": "code",
      "metadata": {
        "id": "gXlJ6aI9vEmc",
        "colab_type": "code",
        "outputId": "d40a33be-9b7e-4351-9c33-143bb4fb9394",
        "colab": {
          "base_uri": "https://localhost:8080/",
          "height": 34
        }
      },
      "source": [
        "full_db_result = query(db)\n",
        "full_db_result"
      ],
      "execution_count": 63,
      "outputs": [
        {
          "output_type": "execute_result",
          "data": {
            "text/plain": [
              "tensor(2484)"
            ]
          },
          "metadata": {
            "tags": []
          },
          "execution_count": 63
        }
      ]
    },
    {
      "cell_type": "code",
      "metadata": {
        "id": "lrAJaNvJvHIp",
        "colab_type": "code",
        "colab": {}
      },
      "source": [
        "sensitivity = 0\n",
        "for pdb in pdbs:\n",
        "  pdb_result = query(pdb)\n",
        "  db_distance = torch.abs(pdb_result - full_db_result)   # L1 Sensitivity\n",
        "  \n",
        "  if(db_distance > sensitivity):\n",
        "    sensitivity = db_distance"
      ],
      "execution_count": 0,
      "outputs": []
    },
    {
      "cell_type": "code",
      "metadata": {
        "id": "XOeOcGByxS6P",
        "colab_type": "code",
        "outputId": "cec7811c-94fd-46cf-abc4-fcad3522b8e5",
        "colab": {
          "base_uri": "https://localhost:8080/",
          "height": 34
        }
      },
      "source": [
        "sensitivity"
      ],
      "execution_count": 65,
      "outputs": [
        {
          "output_type": "execute_result",
          "data": {
            "text/plain": [
              "tensor(1)"
            ]
          },
          "metadata": {
            "tags": []
          },
          "execution_count": 65
        }
      ]
    },
    {
      "cell_type": "code",
      "metadata": {
        "id": "c1RRE0gazTZB",
        "colab_type": "code",
        "colab": {}
      },
      "source": [
        "def get_parallel_db(db,remove_index):\n",
        "  return torch.cat((db[0:remove_index],db[remove_index+1:]))\n",
        "  \n",
        "def get_parallel_dbs(db):\n",
        "  parallel_db = list()\n",
        "  \n",
        "  for i in range(len(db)):\n",
        "    pds = get_parallel_db(db,i)\n",
        "    parallel_db.append(pds)\n",
        "    \n",
        "  return parallel_db\n",
        "\n",
        "def create_db_and_parallels(num_entries):\n",
        "  db = torch.rand(num_entries) > 0.5\n",
        "  pdbs = get_parallel_dbs(db)\n",
        "  \n",
        "  return db,pdbs\n",
        "\n",
        "def query(db):\n",
        "  return db.float().mean()\n",
        "\n",
        "def sensitivity(query,num_entries):\n",
        "  db,pdbs = create_db_and_parallels(num_entries)\n",
        "  sensitive = 0\n",
        "  \n",
        "  full_db_result = query(db)\n",
        "  \n",
        "  for pdb in pdbs:\n",
        "    db_distance = torch.abs(query(pdb) - full_db_result)\n",
        "    \n",
        "  if(db_distance > sensitive):\n",
        "    sensitive = db_distance\n",
        "    \n",
        "  return sensitive\n",
        "      \n",
        "    "
      ],
      "execution_count": 0,
      "outputs": []
    },
    {
      "cell_type": "code",
      "metadata": {
        "id": "9IUjMTZjVGSJ",
        "colab_type": "code",
        "outputId": "bf6940da-17fd-41c4-ac3a-d602ae8e60fc",
        "colab": {
          "base_uri": "https://localhost:8080/",
          "height": 34
        }
      },
      "source": [
        "(sensitivity(query,1000))"
      ],
      "execution_count": 67,
      "outputs": [
        {
          "output_type": "execute_result",
          "data": {
            "text/plain": [
              "tensor(0.0005)"
            ]
          },
          "metadata": {
            "tags": []
          },
          "execution_count": 67
        }
      ]
    },
    {
      "cell_type": "code",
      "metadata": {
        "id": "3Vy0alImVKTp",
        "colab_type": "code",
        "colab": {}
      },
      "source": [
        "def query(db,threshold =5):\n",
        "  return (db.sum() > threshold).float()\n",
        "\n",
        " "
      ],
      "execution_count": 0,
      "outputs": []
    },
    {
      "cell_type": "code",
      "metadata": {
        "id": "s8pFiwisdsUn",
        "colab_type": "code",
        "outputId": "32587307-6d8a-4836-f748-9a3e208f663a",
        "colab": {
          "base_uri": "https://localhost:8080/",
          "height": 187
        }
      },
      "source": [
        "for i in range(10):\n",
        "  sens_f = sensitivity(query,num_entries = 10)\n",
        "  print(sens_f)"
      ],
      "execution_count": 69,
      "outputs": [
        {
          "output_type": "stream",
          "text": [
            "0\n",
            "0\n",
            "0\n",
            "0\n",
            "0\n",
            "0\n",
            "tensor(1.)\n",
            "0\n",
            "tensor(1.)\n",
            "0\n"
          ],
          "name": "stdout"
        }
      ]
    },
    {
      "cell_type": "code",
      "metadata": {
        "id": "JVgUJxyCe4bj",
        "colab_type": "code",
        "colab": {}
      },
      "source": [
        ""
      ],
      "execution_count": 0,
      "outputs": []
    },
    {
      "cell_type": "code",
      "metadata": {
        "id": "gRGZhb3RlODf",
        "colab_type": "code",
        "outputId": "57467b2d-e651-4441-c022-2bd60b888b11",
        "colab": {
          "base_uri": "https://localhost:8080/",
          "height": 102
        }
      },
      "source": [
        "db,_ = create_db_and_parallels(100)\n",
        "db"
      ],
      "execution_count": 70,
      "outputs": [
        {
          "output_type": "execute_result",
          "data": {
            "text/plain": [
              "tensor([1, 0, 0, 0, 1, 1, 0, 0, 1, 0, 1, 0, 1, 0, 0, 1, 0, 1, 0, 1, 1, 1, 1, 0,\n",
              "        1, 0, 1, 0, 0, 1, 0, 1, 1, 1, 1, 1, 0, 0, 0, 0, 0, 0, 0, 1, 1, 0, 0, 0,\n",
              "        1, 1, 1, 1, 0, 1, 0, 1, 1, 0, 0, 0, 1, 1, 1, 0, 1, 0, 0, 0, 1, 1, 1, 0,\n",
              "        1, 1, 0, 1, 1, 1, 0, 1, 0, 0, 0, 1, 0, 0, 0, 1, 0, 0, 0, 1, 1, 0, 0, 0,\n",
              "        0, 1, 0, 1], dtype=torch.uint8)"
            ]
          },
          "metadata": {
            "tags": []
          },
          "execution_count": 70
        }
      ]
    },
    {
      "cell_type": "code",
      "metadata": {
        "id": "izovTHcplS0-",
        "colab_type": "code",
        "outputId": "670e4e35-cdbd-4100-d1dc-07c7e1ca099f",
        "colab": {
          "base_uri": "https://localhost:8080/",
          "height": 102
        }
      },
      "source": [
        "pdb = get_parallel_db(db,remove_index=10)\n",
        "pdb"
      ],
      "execution_count": 71,
      "outputs": [
        {
          "output_type": "execute_result",
          "data": {
            "text/plain": [
              "tensor([1, 0, 0, 0, 1, 1, 0, 0, 1, 0, 0, 1, 0, 0, 1, 0, 1, 0, 1, 1, 1, 1, 0, 1,\n",
              "        0, 1, 0, 0, 1, 0, 1, 1, 1, 1, 1, 0, 0, 0, 0, 0, 0, 0, 1, 1, 0, 0, 0, 1,\n",
              "        1, 1, 1, 0, 1, 0, 1, 1, 0, 0, 0, 1, 1, 1, 0, 1, 0, 0, 0, 1, 1, 1, 0, 1,\n",
              "        1, 0, 1, 1, 1, 0, 1, 0, 0, 0, 1, 0, 0, 0, 1, 0, 0, 0, 1, 1, 0, 0, 0, 0,\n",
              "        1, 0, 1], dtype=torch.uint8)"
            ]
          },
          "metadata": {
            "tags": []
          },
          "execution_count": 71
        }
      ]
    },
    {
      "cell_type": "code",
      "metadata": {
        "id": "oAsrNUZdlbIM",
        "colab_type": "code",
        "outputId": "cf4e6346-6a5c-488e-b6d8-5dccbf41e640",
        "colab": {
          "base_uri": "https://localhost:8080/",
          "height": 34
        }
      },
      "source": [
        "db[10]"
      ],
      "execution_count": 72,
      "outputs": [
        {
          "output_type": "execute_result",
          "data": {
            "text/plain": [
              "tensor(1, dtype=torch.uint8)"
            ]
          },
          "metadata": {
            "tags": []
          },
          "execution_count": 72
        }
      ]
    },
    {
      "cell_type": "code",
      "metadata": {
        "id": "Rz4Yxj7smg0k",
        "colab_type": "code",
        "outputId": "42a03f95-f24b-4cdb-d6c9-14c73c95f544",
        "colab": {
          "base_uri": "https://localhost:8080/",
          "height": 34
        }
      },
      "source": [
        "sum(db)"
      ],
      "execution_count": 73,
      "outputs": [
        {
          "output_type": "execute_result",
          "data": {
            "text/plain": [
              "tensor(48, dtype=torch.uint8)"
            ]
          },
          "metadata": {
            "tags": []
          },
          "execution_count": 73
        }
      ]
    },
    {
      "cell_type": "code",
      "metadata": {
        "id": "fWCryciQl4lb",
        "colab_type": "code",
        "outputId": "d28b0171-440c-437a-d9f1-be403a418d4b",
        "colab": {
          "base_uri": "https://localhost:8080/",
          "height": 34
        }
      },
      "source": [
        "# Differencing attack using sum query\n",
        "sum(db) - sum(pdb)"
      ],
      "execution_count": 74,
      "outputs": [
        {
          "output_type": "execute_result",
          "data": {
            "text/plain": [
              "tensor(1, dtype=torch.uint8)"
            ]
          },
          "metadata": {
            "tags": []
          },
          "execution_count": 74
        }
      ]
    },
    {
      "cell_type": "code",
      "metadata": {
        "id": "pMNh1wdtl8ja",
        "colab_type": "code",
        "outputId": "f8481f46-da28-4518-9206-5b1c2580c31c",
        "colab": {
          "base_uri": "https://localhost:8080/",
          "height": 34
        }
      },
      "source": [
        "# Differencing attack using mean query\n",
        "(sum(db).float()/len(db))-(sum(pdb).float()/len(pdb))"
      ],
      "execution_count": 75,
      "outputs": [
        {
          "output_type": "execute_result",
          "data": {
            "text/plain": [
              "tensor(0.0053)"
            ]
          },
          "metadata": {
            "tags": []
          },
          "execution_count": 75
        }
      ]
    },
    {
      "cell_type": "markdown",
      "metadata": {
        "id": "iiD7PhKkeqv-",
        "colab_type": "text"
      },
      "source": [
        "# **LESSON 5**"
      ]
    },
    {
      "cell_type": "code",
      "metadata": {
        "id": "3gfSN61tma-9",
        "colab_type": "code",
        "colab": {
          "base_uri": "https://localhost:8080/",
          "height": 102
        },
        "outputId": "cdfc233a-70b6-47d7-f175-48222f3ea75d"
      },
      "source": [
        "db , pdbs = create_db_and_parallels(100)\n",
        "db\n"
      ],
      "execution_count": 78,
      "outputs": [
        {
          "output_type": "execute_result",
          "data": {
            "text/plain": [
              "tensor([0, 1, 1, 1, 0, 0, 0, 0, 1, 0, 1, 0, 0, 1, 1, 1, 1, 1, 1, 0, 0, 1, 1, 0,\n",
              "        1, 1, 0, 0, 1, 1, 1, 1, 1, 1, 1, 0, 0, 0, 1, 0, 1, 1, 1, 0, 0, 1, 1, 1,\n",
              "        0, 0, 1, 1, 0, 1, 1, 1, 0, 0, 1, 1, 1, 0, 1, 1, 1, 0, 1, 0, 0, 0, 0, 1,\n",
              "        0, 1, 1, 0, 0, 0, 1, 1, 1, 1, 0, 0, 1, 0, 1, 1, 1, 0, 1, 1, 0, 0, 0, 0,\n",
              "        0, 0, 0, 0], dtype=torch.uint8)"
            ]
          },
          "metadata": {
            "tags": []
          },
          "execution_count": 78
        }
      ]
    },
    {
      "cell_type": "code",
      "metadata": {
        "id": "pujTWRKzg6u-",
        "colab_type": "code",
        "colab": {}
      },
      "source": [
        "first_flip_coin = (torch.rand(len(db)) > 0.5).float()\n",
        "second_flip_coin = (torch.rand(len(db)) > 0.5).float()\n"
      ],
      "execution_count": 0,
      "outputs": []
    },
    {
      "cell_type": "code",
      "metadata": {
        "id": "Z-0rspbNhdo1",
        "colab_type": "code",
        "colab": {
          "base_uri": "https://localhost:8080/",
          "height": 119
        },
        "outputId": "cd895bb0-dfae-45aa-d871-c62ab1b7c890"
      },
      "source": [
        "first_flip_coin"
      ],
      "execution_count": 83,
      "outputs": [
        {
          "output_type": "execute_result",
          "data": {
            "text/plain": [
              "tensor([1., 0., 0., 1., 0., 0., 1., 0., 1., 0., 0., 1., 1., 0., 1., 0., 0., 1.,\n",
              "        1., 0., 1., 1., 1., 0., 0., 1., 0., 1., 0., 0., 1., 0., 0., 1., 0., 0.,\n",
              "        0., 1., 1., 0., 0., 1., 0., 1., 1., 0., 0., 0., 0., 0., 0., 1., 0., 1.,\n",
              "        0., 0., 0., 1., 1., 0., 0., 0., 1., 0., 0., 1., 1., 1., 0., 1., 1., 1.,\n",
              "        1., 0., 0., 1., 1., 1., 1., 1., 0., 1., 0., 1., 1., 0., 1., 1., 0., 1.,\n",
              "        0., 0., 1., 0., 0., 1., 1., 1., 0., 0.])"
            ]
          },
          "metadata": {
            "tags": []
          },
          "execution_count": 83
        }
      ]
    },
    {
      "cell_type": "code",
      "metadata": {
        "id": "C7TC3jCphfyn",
        "colab_type": "code",
        "colab": {
          "base_uri": "https://localhost:8080/",
          "height": 119
        },
        "outputId": "e4a55c3c-3799-4a56-9e47-36601fdca84b"
      },
      "source": [
        "second_flip_coin"
      ],
      "execution_count": 85,
      "outputs": [
        {
          "output_type": "execute_result",
          "data": {
            "text/plain": [
              "tensor([1., 0., 0., 0., 0., 0., 0., 1., 0., 0., 1., 0., 1., 1., 0., 1., 0., 0.,\n",
              "        0., 1., 0., 0., 1., 1., 1., 1., 0., 1., 0., 0., 1., 1., 1., 0., 0., 1.,\n",
              "        0., 1., 0., 0., 0., 1., 0., 1., 0., 0., 1., 1., 1., 0., 1., 1., 0., 1.,\n",
              "        0., 0., 0., 0., 1., 1., 1., 0., 0., 0., 1., 1., 1., 0., 1., 0., 0., 0.,\n",
              "        1., 1., 0., 0., 1., 1., 1., 0., 1., 1., 1., 1., 1., 1., 1., 1., 0., 1.,\n",
              "        0., 1., 1., 0., 1., 1., 1., 1., 1., 0.])"
            ]
          },
          "metadata": {
            "tags": []
          },
          "execution_count": 85
        }
      ]
    },
    {
      "cell_type": "code",
      "metadata": {
        "id": "UamMGw3vh8jo",
        "colab_type": "code",
        "colab": {}
      },
      "source": [
        "augmented_database = db.float() * first_flip_coin + (1 - first_flip_coin) * second_flip_coin"
      ],
      "execution_count": 0,
      "outputs": []
    },
    {
      "cell_type": "code",
      "metadata": {
        "id": "pP6Lkal6iFYg",
        "colab_type": "code",
        "colab": {
          "base_uri": "https://localhost:8080/",
          "height": 34
        },
        "outputId": "78680751-b63c-4130-b717-1542410099be"
      },
      "source": [
        "torch.mean(augmented_database.float())\n",
        "torch.mean(second_flip_coin.float())"
      ],
      "execution_count": 92,
      "outputs": [
        {
          "output_type": "execute_result",
          "data": {
            "text/plain": [
              "tensor(0.5300)"
            ]
          },
          "metadata": {
            "tags": []
          },
          "execution_count": 92
        }
      ]
    },
    {
      "cell_type": "code",
      "metadata": {
        "id": "9qbLoCYniV52",
        "colab_type": "code",
        "colab": {
          "base_uri": "https://localhost:8080/",
          "height": 34
        },
        "outputId": "035dcf90-a60d-4ba2-f969-1e9fe95b0fcb"
      },
      "source": [
        "torch.mean(db.float())"
      ],
      "execution_count": 89,
      "outputs": [
        {
          "output_type": "execute_result",
          "data": {
            "text/plain": [
              "tensor(0.5400)"
            ]
          },
          "metadata": {
            "tags": []
          },
          "execution_count": 89
        }
      ]
    },
    {
      "cell_type": "code",
      "metadata": {
        "id": "bobBjAmqjd9v",
        "colab_type": "code",
        "colab": {}
      },
      "source": [
        "db_result = torch.mean(augmented_database.float()) * 2 -0.5"
      ],
      "execution_count": 0,
      "outputs": []
    },
    {
      "cell_type": "code",
      "metadata": {
        "id": "B3cRCvlqjp3s",
        "colab_type": "code",
        "colab": {}
      },
      "source": [
        "def query(db):\n",
        "  true_result = torch.mean(db.float())\n",
        "  first_flip_coin = (torch.rand(len(db))).float()\n",
        "  second_flip_coin = (torch.rand(len(db))).float()\n",
        "  \n",
        "  augmented_database = db.float() * first_flip_coin + (1 - first_flip_coin) * second_flip_coin\n",
        "  db_result = torch.mean(augmented_database.float()) * 2 -0.5\n",
        "  return db_result,true_result"
      ],
      "execution_count": 0,
      "outputs": []
    },
    {
      "cell_type": "code",
      "metadata": {
        "id": "VynCdPxIkeGo",
        "colab_type": "code",
        "colab": {
          "base_uri": "https://localhost:8080/",
          "height": 51
        },
        "outputId": "48b0c5f0-cf9e-4fee-b176-7787b94bfb7e"
      },
      "source": [
        "db,pds = create_db_and_parallels(100)\n",
        "private_result,true_result = query(db)\n",
        "print(\"With Noise: \",private_result)\n",
        "print(\"Without Noise: \",true_result)"
      ],
      "execution_count": 96,
      "outputs": [
        {
          "output_type": "stream",
          "text": [
            "With Noise:  tensor(0.6744)\n",
            "Without Noise:  tensor(0.6100)\n"
          ],
          "name": "stdout"
        }
      ]
    },
    {
      "cell_type": "code",
      "metadata": {
        "id": "ulp3krZAkgwu",
        "colab_type": "code",
        "colab": {
          "base_uri": "https://localhost:8080/",
          "height": 51
        },
        "outputId": "a9d93460-5b20-4f3a-8ccb-93a6dab6ca6c"
      },
      "source": [
        "db,pds = create_db_and_parallels(1000)\n",
        "private_result,true_result = query(db)\n",
        "print(\"With Noise: \",private_result)\n",
        "print(\"Without Noise: \",true_result)"
      ],
      "execution_count": 97,
      "outputs": [
        {
          "output_type": "stream",
          "text": [
            "With Noise:  tensor(0.4651)\n",
            "Without Noise:  tensor(0.4810)\n"
          ],
          "name": "stdout"
        }
      ]
    },
    {
      "cell_type": "code",
      "metadata": {
        "id": "E71JP45Gk9v-",
        "colab_type": "code",
        "colab": {
          "base_uri": "https://localhost:8080/",
          "height": 51
        },
        "outputId": "0349da1d-6e16-41ea-ebd5-f01dda2ed909"
      },
      "source": [
        "db,pds = create_db_and_parallels(10000)\n",
        "private_result,true_result = query(db)\n",
        "print(\"With Noise: \",private_result)\n",
        "print(\"Without Noise: \",true_result)"
      ],
      "execution_count": 98,
      "outputs": [
        {
          "output_type": "stream",
          "text": [
            "With Noise:  tensor(0.5071)\n",
            "Without Noise:  tensor(0.5029)\n"
          ],
          "name": "stdout"
        }
      ]
    },
    {
      "cell_type": "code",
      "metadata": {
        "id": "6KGOc_Jqk_RT",
        "colab_type": "code",
        "colab": {}
      },
      "source": [
        ""
      ],
      "execution_count": 0,
      "outputs": []
    }
  ]
}